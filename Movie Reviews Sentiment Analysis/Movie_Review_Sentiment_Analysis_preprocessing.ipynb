{
  "nbformat": 4,
  "nbformat_minor": 0,
  "metadata": {
    "colab": {
      "provenance": [],
      "toc_visible": true
    },
    "kernelspec": {
      "name": "python3",
      "display_name": "Python 3"
    },
    "language_info": {
      "name": "python"
    },
    "accelerator": "TPU",
    "widgets": {
      "application/vnd.jupyter.widget-state+json": {
        "9fe6b1cdd00c4f3ea656abb509b4dc04": {
          "model_module": "@jupyter-widgets/controls",
          "model_name": "HBoxModel",
          "model_module_version": "1.5.0",
          "state": {
            "_dom_classes": [],
            "_model_module": "@jupyter-widgets/controls",
            "_model_module_version": "1.5.0",
            "_model_name": "HBoxModel",
            "_view_count": null,
            "_view_module": "@jupyter-widgets/controls",
            "_view_module_version": "1.5.0",
            "_view_name": "HBoxView",
            "box_style": "",
            "children": [
              "IPY_MODEL_4f26dedba80c456793834e9b20c254d4",
              "IPY_MODEL_098dad21d8264398b66ee0b95a19e4ed",
              "IPY_MODEL_5fcb9974d3034c27b9f60584f3b32e31"
            ],
            "layout": "IPY_MODEL_7b34f98cf654446f8842625fa3c3cc5c"
          }
        },
        "4f26dedba80c456793834e9b20c254d4": {
          "model_module": "@jupyter-widgets/controls",
          "model_name": "HTMLModel",
          "model_module_version": "1.5.0",
          "state": {
            "_dom_classes": [],
            "_model_module": "@jupyter-widgets/controls",
            "_model_module_version": "1.5.0",
            "_model_name": "HTMLModel",
            "_view_count": null,
            "_view_module": "@jupyter-widgets/controls",
            "_view_module_version": "1.5.0",
            "_view_name": "HTMLView",
            "description": "",
            "description_tooltip": null,
            "layout": "IPY_MODEL_9571d0e32d9c4a2bb6c8ef9f83ac1239",
            "placeholder": "​",
            "style": "IPY_MODEL_d431c341da2a480a97a06eac15d1bd7c",
            "value": "Downloading model.safetensors: 100%"
          }
        },
        "098dad21d8264398b66ee0b95a19e4ed": {
          "model_module": "@jupyter-widgets/controls",
          "model_name": "FloatProgressModel",
          "model_module_version": "1.5.0",
          "state": {
            "_dom_classes": [],
            "_model_module": "@jupyter-widgets/controls",
            "_model_module_version": "1.5.0",
            "_model_name": "FloatProgressModel",
            "_view_count": null,
            "_view_module": "@jupyter-widgets/controls",
            "_view_module_version": "1.5.0",
            "_view_name": "ProgressView",
            "bar_style": "success",
            "description": "",
            "description_tooltip": null,
            "layout": "IPY_MODEL_9828bccf6dda44359f3fa1b22c4d73ac",
            "max": 267954768,
            "min": 0,
            "orientation": "horizontal",
            "style": "IPY_MODEL_7013950a33624b38b0750052cc18e175",
            "value": 267954768
          }
        },
        "5fcb9974d3034c27b9f60584f3b32e31": {
          "model_module": "@jupyter-widgets/controls",
          "model_name": "HTMLModel",
          "model_module_version": "1.5.0",
          "state": {
            "_dom_classes": [],
            "_model_module": "@jupyter-widgets/controls",
            "_model_module_version": "1.5.0",
            "_model_name": "HTMLModel",
            "_view_count": null,
            "_view_module": "@jupyter-widgets/controls",
            "_view_module_version": "1.5.0",
            "_view_name": "HTMLView",
            "description": "",
            "description_tooltip": null,
            "layout": "IPY_MODEL_8b62f609b6a94298aac254814d1afdb0",
            "placeholder": "​",
            "style": "IPY_MODEL_75c51f2663eb4019897ee851c53c5bc9",
            "value": " 268M/268M [00:04&lt;00:00, 67.4MB/s]"
          }
        },
        "7b34f98cf654446f8842625fa3c3cc5c": {
          "model_module": "@jupyter-widgets/base",
          "model_name": "LayoutModel",
          "model_module_version": "1.2.0",
          "state": {
            "_model_module": "@jupyter-widgets/base",
            "_model_module_version": "1.2.0",
            "_model_name": "LayoutModel",
            "_view_count": null,
            "_view_module": "@jupyter-widgets/base",
            "_view_module_version": "1.2.0",
            "_view_name": "LayoutView",
            "align_content": null,
            "align_items": null,
            "align_self": null,
            "border": null,
            "bottom": null,
            "display": null,
            "flex": null,
            "flex_flow": null,
            "grid_area": null,
            "grid_auto_columns": null,
            "grid_auto_flow": null,
            "grid_auto_rows": null,
            "grid_column": null,
            "grid_gap": null,
            "grid_row": null,
            "grid_template_areas": null,
            "grid_template_columns": null,
            "grid_template_rows": null,
            "height": null,
            "justify_content": null,
            "justify_items": null,
            "left": null,
            "margin": null,
            "max_height": null,
            "max_width": null,
            "min_height": null,
            "min_width": null,
            "object_fit": null,
            "object_position": null,
            "order": null,
            "overflow": null,
            "overflow_x": null,
            "overflow_y": null,
            "padding": null,
            "right": null,
            "top": null,
            "visibility": null,
            "width": null
          }
        },
        "9571d0e32d9c4a2bb6c8ef9f83ac1239": {
          "model_module": "@jupyter-widgets/base",
          "model_name": "LayoutModel",
          "model_module_version": "1.2.0",
          "state": {
            "_model_module": "@jupyter-widgets/base",
            "_model_module_version": "1.2.0",
            "_model_name": "LayoutModel",
            "_view_count": null,
            "_view_module": "@jupyter-widgets/base",
            "_view_module_version": "1.2.0",
            "_view_name": "LayoutView",
            "align_content": null,
            "align_items": null,
            "align_self": null,
            "border": null,
            "bottom": null,
            "display": null,
            "flex": null,
            "flex_flow": null,
            "grid_area": null,
            "grid_auto_columns": null,
            "grid_auto_flow": null,
            "grid_auto_rows": null,
            "grid_column": null,
            "grid_gap": null,
            "grid_row": null,
            "grid_template_areas": null,
            "grid_template_columns": null,
            "grid_template_rows": null,
            "height": null,
            "justify_content": null,
            "justify_items": null,
            "left": null,
            "margin": null,
            "max_height": null,
            "max_width": null,
            "min_height": null,
            "min_width": null,
            "object_fit": null,
            "object_position": null,
            "order": null,
            "overflow": null,
            "overflow_x": null,
            "overflow_y": null,
            "padding": null,
            "right": null,
            "top": null,
            "visibility": null,
            "width": null
          }
        },
        "d431c341da2a480a97a06eac15d1bd7c": {
          "model_module": "@jupyter-widgets/controls",
          "model_name": "DescriptionStyleModel",
          "model_module_version": "1.5.0",
          "state": {
            "_model_module": "@jupyter-widgets/controls",
            "_model_module_version": "1.5.0",
            "_model_name": "DescriptionStyleModel",
            "_view_count": null,
            "_view_module": "@jupyter-widgets/base",
            "_view_module_version": "1.2.0",
            "_view_name": "StyleView",
            "description_width": ""
          }
        },
        "9828bccf6dda44359f3fa1b22c4d73ac": {
          "model_module": "@jupyter-widgets/base",
          "model_name": "LayoutModel",
          "model_module_version": "1.2.0",
          "state": {
            "_model_module": "@jupyter-widgets/base",
            "_model_module_version": "1.2.0",
            "_model_name": "LayoutModel",
            "_view_count": null,
            "_view_module": "@jupyter-widgets/base",
            "_view_module_version": "1.2.0",
            "_view_name": "LayoutView",
            "align_content": null,
            "align_items": null,
            "align_self": null,
            "border": null,
            "bottom": null,
            "display": null,
            "flex": null,
            "flex_flow": null,
            "grid_area": null,
            "grid_auto_columns": null,
            "grid_auto_flow": null,
            "grid_auto_rows": null,
            "grid_column": null,
            "grid_gap": null,
            "grid_row": null,
            "grid_template_areas": null,
            "grid_template_columns": null,
            "grid_template_rows": null,
            "height": null,
            "justify_content": null,
            "justify_items": null,
            "left": null,
            "margin": null,
            "max_height": null,
            "max_width": null,
            "min_height": null,
            "min_width": null,
            "object_fit": null,
            "object_position": null,
            "order": null,
            "overflow": null,
            "overflow_x": null,
            "overflow_y": null,
            "padding": null,
            "right": null,
            "top": null,
            "visibility": null,
            "width": null
          }
        },
        "7013950a33624b38b0750052cc18e175": {
          "model_module": "@jupyter-widgets/controls",
          "model_name": "ProgressStyleModel",
          "model_module_version": "1.5.0",
          "state": {
            "_model_module": "@jupyter-widgets/controls",
            "_model_module_version": "1.5.0",
            "_model_name": "ProgressStyleModel",
            "_view_count": null,
            "_view_module": "@jupyter-widgets/base",
            "_view_module_version": "1.2.0",
            "_view_name": "StyleView",
            "bar_color": null,
            "description_width": ""
          }
        },
        "8b62f609b6a94298aac254814d1afdb0": {
          "model_module": "@jupyter-widgets/base",
          "model_name": "LayoutModel",
          "model_module_version": "1.2.0",
          "state": {
            "_model_module": "@jupyter-widgets/base",
            "_model_module_version": "1.2.0",
            "_model_name": "LayoutModel",
            "_view_count": null,
            "_view_module": "@jupyter-widgets/base",
            "_view_module_version": "1.2.0",
            "_view_name": "LayoutView",
            "align_content": null,
            "align_items": null,
            "align_self": null,
            "border": null,
            "bottom": null,
            "display": null,
            "flex": null,
            "flex_flow": null,
            "grid_area": null,
            "grid_auto_columns": null,
            "grid_auto_flow": null,
            "grid_auto_rows": null,
            "grid_column": null,
            "grid_gap": null,
            "grid_row": null,
            "grid_template_areas": null,
            "grid_template_columns": null,
            "grid_template_rows": null,
            "height": null,
            "justify_content": null,
            "justify_items": null,
            "left": null,
            "margin": null,
            "max_height": null,
            "max_width": null,
            "min_height": null,
            "min_width": null,
            "object_fit": null,
            "object_position": null,
            "order": null,
            "overflow": null,
            "overflow_x": null,
            "overflow_y": null,
            "padding": null,
            "right": null,
            "top": null,
            "visibility": null,
            "width": null
          }
        },
        "75c51f2663eb4019897ee851c53c5bc9": {
          "model_module": "@jupyter-widgets/controls",
          "model_name": "DescriptionStyleModel",
          "model_module_version": "1.5.0",
          "state": {
            "_model_module": "@jupyter-widgets/controls",
            "_model_module_version": "1.5.0",
            "_model_name": "DescriptionStyleModel",
            "_view_count": null,
            "_view_module": "@jupyter-widgets/base",
            "_view_module_version": "1.2.0",
            "_view_name": "StyleView",
            "description_width": ""
          }
        }
      }
    }
  },
  "cells": [
    {
      "cell_type": "markdown",
      "source": [
        "# IMDB Sentiment Analysis"
      ],
      "metadata": {
        "id": "qc0tf-SAm8zL"
      }
    },
    {
      "cell_type": "code",
      "execution_count": 11,
      "metadata": {
        "colab": {
          "base_uri": "https://localhost:8080/"
        },
        "id": "n_3rv5xJZKxo",
        "outputId": "b462644f-1225-4cab-f715-7baad2776151"
      },
      "outputs": [
        {
          "output_type": "stream",
          "name": "stdout",
          "text": [
            "Drive already mounted at /content/drive; to attempt to forcibly remount, call drive.mount(\"/content/drive\", force_remount=True).\n"
          ]
        }
      ],
      "source": [
        "from google.colab import drive\n",
        "drive.mount('/content/drive')"
      ]
    },
    {
      "cell_type": "code",
      "source": [
        "#import Libraries\n",
        "import warnings\n",
        "warnings.filterwarnings(\"ignore\")\n",
        "import numpy as np\n",
        "import pandas as pd\n",
        "import matplotlib.pyplot as plt\n",
        "import seaborn as sns\n",
        "%matplotlib inline"
      ],
      "metadata": {
        "id": "ZTumnfoZdF9Y"
      },
      "execution_count": 12,
      "outputs": []
    },
    {
      "cell_type": "code",
      "source": [
        "!pip install --upgrade gensim\n",
        "!pip install transformers"
      ],
      "metadata": {
        "id": "1C0s1tXNeRBv",
        "colab": {
          "base_uri": "https://localhost:8080/"
        },
        "outputId": "342f60fd-8bc9-47d9-bdb9-f063c1c561e5"
      },
      "execution_count": 13,
      "outputs": [
        {
          "output_type": "stream",
          "name": "stdout",
          "text": [
            "Requirement already satisfied: gensim in /usr/local/lib/python3.10/dist-packages (4.3.1)\n",
            "Requirement already satisfied: numpy>=1.18.5 in /usr/local/lib/python3.10/dist-packages (from gensim) (1.25.2)\n",
            "Requirement already satisfied: scipy>=1.7.0 in /usr/local/lib/python3.10/dist-packages (from gensim) (1.11.1)\n",
            "Requirement already satisfied: smart-open>=1.8.1 in /usr/local/lib/python3.10/dist-packages (from gensim) (6.3.0)\n",
            "Requirement already satisfied: transformers in /usr/local/lib/python3.10/dist-packages (4.31.0)\n",
            "Requirement already satisfied: filelock in /usr/local/lib/python3.10/dist-packages (from transformers) (3.12.2)\n",
            "Requirement already satisfied: huggingface-hub<1.0,>=0.14.1 in /usr/local/lib/python3.10/dist-packages (from transformers) (0.16.4)\n",
            "Requirement already satisfied: numpy>=1.17 in /usr/local/lib/python3.10/dist-packages (from transformers) (1.25.2)\n",
            "Requirement already satisfied: packaging>=20.0 in /usr/local/lib/python3.10/dist-packages (from transformers) (23.1)\n",
            "Requirement already satisfied: pyyaml>=5.1 in /usr/local/lib/python3.10/dist-packages (from transformers) (6.0.1)\n",
            "Requirement already satisfied: regex!=2019.12.17 in /usr/local/lib/python3.10/dist-packages (from transformers) (2022.10.31)\n",
            "Requirement already satisfied: requests in /usr/local/lib/python3.10/dist-packages (from transformers) (2.27.1)\n",
            "Requirement already satisfied: tokenizers!=0.11.3,<0.14,>=0.11.1 in /usr/local/lib/python3.10/dist-packages (from transformers) (0.13.3)\n",
            "Requirement already satisfied: safetensors>=0.3.1 in /usr/local/lib/python3.10/dist-packages (from transformers) (0.3.1)\n",
            "Requirement already satisfied: tqdm>=4.27 in /usr/local/lib/python3.10/dist-packages (from transformers) (4.65.0)\n",
            "Requirement already satisfied: fsspec in /usr/local/lib/python3.10/dist-packages (from huggingface-hub<1.0,>=0.14.1->transformers) (2023.6.0)\n",
            "Requirement already satisfied: typing-extensions>=3.7.4.3 in /usr/local/lib/python3.10/dist-packages (from huggingface-hub<1.0,>=0.14.1->transformers) (4.7.1)\n",
            "Requirement already satisfied: urllib3<1.27,>=1.21.1 in /usr/local/lib/python3.10/dist-packages (from requests->transformers) (1.26.16)\n",
            "Requirement already satisfied: certifi>=2017.4.17 in /usr/local/lib/python3.10/dist-packages (from requests->transformers) (2023.7.22)\n",
            "Requirement already satisfied: charset-normalizer~=2.0.0 in /usr/local/lib/python3.10/dist-packages (from requests->transformers) (2.0.12)\n",
            "Requirement already satisfied: idna<4,>=2.5 in /usr/local/lib/python3.10/dist-packages (from requests->transformers) (3.4)\n"
          ]
        }
      ]
    },
    {
      "cell_type": "code",
      "source": [
        "#reading the csv files\n",
        "train = pd.read_csv('drive/My Drive/data/Train.csv')\n",
        "test = pd.read_csv('drive/My Drive/data/Test.csv')\n",
        "valid = pd.read_csv('drive/My Drive/data/Valid.csv')"
      ],
      "metadata": {
        "id": "8hBPabFJrSJw"
      },
      "execution_count": 14,
      "outputs": []
    },
    {
      "cell_type": "code",
      "source": [
        "train.head()"
      ],
      "metadata": {
        "colab": {
          "base_uri": "https://localhost:8080/",
          "height": 206
        },
        "id": "7_BXD2nbYDN7",
        "outputId": "51ac1614-7806-4e57-cdcb-1e16f0465c5c"
      },
      "execution_count": 15,
      "outputs": [
        {
          "output_type": "execute_result",
          "data": {
            "text/plain": [
              "                                                text  label\n",
              "0  I grew up (b. 1965) watching and loving the Th...      0\n",
              "1  When I put this movie in my DVD player, and sa...      0\n",
              "2  Why do people who do not know what a particula...      0\n",
              "3  Even though I have great interest in Biblical ...      0\n",
              "4  Im a die hard Dads Army fan and nothing will e...      1"
            ],
            "text/html": [
              "\n",
              "\n",
              "  <div id=\"df-b05d8d57-608d-4451-a130-8cc15c3a3939\">\n",
              "    <div class=\"colab-df-container\">\n",
              "      <div>\n",
              "<style scoped>\n",
              "    .dataframe tbody tr th:only-of-type {\n",
              "        vertical-align: middle;\n",
              "    }\n",
              "\n",
              "    .dataframe tbody tr th {\n",
              "        vertical-align: top;\n",
              "    }\n",
              "\n",
              "    .dataframe thead th {\n",
              "        text-align: right;\n",
              "    }\n",
              "</style>\n",
              "<table border=\"1\" class=\"dataframe\">\n",
              "  <thead>\n",
              "    <tr style=\"text-align: right;\">\n",
              "      <th></th>\n",
              "      <th>text</th>\n",
              "      <th>label</th>\n",
              "    </tr>\n",
              "  </thead>\n",
              "  <tbody>\n",
              "    <tr>\n",
              "      <th>0</th>\n",
              "      <td>I grew up (b. 1965) watching and loving the Th...</td>\n",
              "      <td>0</td>\n",
              "    </tr>\n",
              "    <tr>\n",
              "      <th>1</th>\n",
              "      <td>When I put this movie in my DVD player, and sa...</td>\n",
              "      <td>0</td>\n",
              "    </tr>\n",
              "    <tr>\n",
              "      <th>2</th>\n",
              "      <td>Why do people who do not know what a particula...</td>\n",
              "      <td>0</td>\n",
              "    </tr>\n",
              "    <tr>\n",
              "      <th>3</th>\n",
              "      <td>Even though I have great interest in Biblical ...</td>\n",
              "      <td>0</td>\n",
              "    </tr>\n",
              "    <tr>\n",
              "      <th>4</th>\n",
              "      <td>Im a die hard Dads Army fan and nothing will e...</td>\n",
              "      <td>1</td>\n",
              "    </tr>\n",
              "  </tbody>\n",
              "</table>\n",
              "</div>\n",
              "      <button class=\"colab-df-convert\" onclick=\"convertToInteractive('df-b05d8d57-608d-4451-a130-8cc15c3a3939')\"\n",
              "              title=\"Convert this dataframe to an interactive table.\"\n",
              "              style=\"display:none;\">\n",
              "\n",
              "  <svg xmlns=\"http://www.w3.org/2000/svg\" height=\"24px\"viewBox=\"0 0 24 24\"\n",
              "       width=\"24px\">\n",
              "    <path d=\"M0 0h24v24H0V0z\" fill=\"none\"/>\n",
              "    <path d=\"M18.56 5.44l.94 2.06.94-2.06 2.06-.94-2.06-.94-.94-2.06-.94 2.06-2.06.94zm-11 1L8.5 8.5l.94-2.06 2.06-.94-2.06-.94L8.5 2.5l-.94 2.06-2.06.94zm10 10l.94 2.06.94-2.06 2.06-.94-2.06-.94-.94-2.06-.94 2.06-2.06.94z\"/><path d=\"M17.41 7.96l-1.37-1.37c-.4-.4-.92-.59-1.43-.59-.52 0-1.04.2-1.43.59L10.3 9.45l-7.72 7.72c-.78.78-.78 2.05 0 2.83L4 21.41c.39.39.9.59 1.41.59.51 0 1.02-.2 1.41-.59l7.78-7.78 2.81-2.81c.8-.78.8-2.07 0-2.86zM5.41 20L4 18.59l7.72-7.72 1.47 1.35L5.41 20z\"/>\n",
              "  </svg>\n",
              "      </button>\n",
              "\n",
              "\n",
              "\n",
              "    <div id=\"df-868d4251-ac0f-48eb-8359-37ee62d451e9\">\n",
              "      <button class=\"colab-df-quickchart\" onclick=\"quickchart('df-868d4251-ac0f-48eb-8359-37ee62d451e9')\"\n",
              "              title=\"Suggest charts.\"\n",
              "              style=\"display:none;\">\n",
              "\n",
              "<svg xmlns=\"http://www.w3.org/2000/svg\" height=\"24px\"viewBox=\"0 0 24 24\"\n",
              "     width=\"24px\">\n",
              "    <g>\n",
              "        <path d=\"M19 3H5c-1.1 0-2 .9-2 2v14c0 1.1.9 2 2 2h14c1.1 0 2-.9 2-2V5c0-1.1-.9-2-2-2zM9 17H7v-7h2v7zm4 0h-2V7h2v10zm4 0h-2v-4h2v4z\"/>\n",
              "    </g>\n",
              "</svg>\n",
              "      </button>\n",
              "    </div>\n",
              "\n",
              "<style>\n",
              "  .colab-df-quickchart {\n",
              "    background-color: #E8F0FE;\n",
              "    border: none;\n",
              "    border-radius: 50%;\n",
              "    cursor: pointer;\n",
              "    display: none;\n",
              "    fill: #1967D2;\n",
              "    height: 32px;\n",
              "    padding: 0 0 0 0;\n",
              "    width: 32px;\n",
              "  }\n",
              "\n",
              "  .colab-df-quickchart:hover {\n",
              "    background-color: #E2EBFA;\n",
              "    box-shadow: 0px 1px 2px rgba(60, 64, 67, 0.3), 0px 1px 3px 1px rgba(60, 64, 67, 0.15);\n",
              "    fill: #174EA6;\n",
              "  }\n",
              "\n",
              "  [theme=dark] .colab-df-quickchart {\n",
              "    background-color: #3B4455;\n",
              "    fill: #D2E3FC;\n",
              "  }\n",
              "\n",
              "  [theme=dark] .colab-df-quickchart:hover {\n",
              "    background-color: #434B5C;\n",
              "    box-shadow: 0px 1px 3px 1px rgba(0, 0, 0, 0.15);\n",
              "    filter: drop-shadow(0px 1px 2px rgba(0, 0, 0, 0.3));\n",
              "    fill: #FFFFFF;\n",
              "  }\n",
              "</style>\n",
              "\n",
              "    <script>\n",
              "      async function quickchart(key) {\n",
              "        const containerElement = document.querySelector('#' + key);\n",
              "        const charts = await google.colab.kernel.invokeFunction(\n",
              "            'suggestCharts', [key], {});\n",
              "      }\n",
              "    </script>\n",
              "\n",
              "      <script>\n",
              "\n",
              "function displayQuickchartButton(domScope) {\n",
              "  let quickchartButtonEl =\n",
              "    domScope.querySelector('#df-868d4251-ac0f-48eb-8359-37ee62d451e9 button.colab-df-quickchart');\n",
              "  quickchartButtonEl.style.display =\n",
              "    google.colab.kernel.accessAllowed ? 'block' : 'none';\n",
              "}\n",
              "\n",
              "        displayQuickchartButton(document);\n",
              "      </script>\n",
              "      <style>\n",
              "    .colab-df-container {\n",
              "      display:flex;\n",
              "      flex-wrap:wrap;\n",
              "      gap: 12px;\n",
              "    }\n",
              "\n",
              "    .colab-df-convert {\n",
              "      background-color: #E8F0FE;\n",
              "      border: none;\n",
              "      border-radius: 50%;\n",
              "      cursor: pointer;\n",
              "      display: none;\n",
              "      fill: #1967D2;\n",
              "      height: 32px;\n",
              "      padding: 0 0 0 0;\n",
              "      width: 32px;\n",
              "    }\n",
              "\n",
              "    .colab-df-convert:hover {\n",
              "      background-color: #E2EBFA;\n",
              "      box-shadow: 0px 1px 2px rgba(60, 64, 67, 0.3), 0px 1px 3px 1px rgba(60, 64, 67, 0.15);\n",
              "      fill: #174EA6;\n",
              "    }\n",
              "\n",
              "    [theme=dark] .colab-df-convert {\n",
              "      background-color: #3B4455;\n",
              "      fill: #D2E3FC;\n",
              "    }\n",
              "\n",
              "    [theme=dark] .colab-df-convert:hover {\n",
              "      background-color: #434B5C;\n",
              "      box-shadow: 0px 1px 3px 1px rgba(0, 0, 0, 0.15);\n",
              "      filter: drop-shadow(0px 1px 2px rgba(0, 0, 0, 0.3));\n",
              "      fill: #FFFFFF;\n",
              "    }\n",
              "  </style>\n",
              "\n",
              "      <script>\n",
              "        const buttonEl =\n",
              "          document.querySelector('#df-b05d8d57-608d-4451-a130-8cc15c3a3939 button.colab-df-convert');\n",
              "        buttonEl.style.display =\n",
              "          google.colab.kernel.accessAllowed ? 'block' : 'none';\n",
              "\n",
              "        async function convertToInteractive(key) {\n",
              "          const element = document.querySelector('#df-b05d8d57-608d-4451-a130-8cc15c3a3939');\n",
              "          const dataTable =\n",
              "            await google.colab.kernel.invokeFunction('convertToInteractive',\n",
              "                                                     [key], {});\n",
              "          if (!dataTable) return;\n",
              "\n",
              "          const docLinkHtml = 'Like what you see? Visit the ' +\n",
              "            '<a target=\"_blank\" href=https://colab.research.google.com/notebooks/data_table.ipynb>data table notebook</a>'\n",
              "            + ' to learn more about interactive tables.';\n",
              "          element.innerHTML = '';\n",
              "          dataTable['output_type'] = 'display_data';\n",
              "          await google.colab.output.renderOutput(dataTable, element);\n",
              "          const docLink = document.createElement('div');\n",
              "          docLink.innerHTML = docLinkHtml;\n",
              "          element.appendChild(docLink);\n",
              "        }\n",
              "      </script>\n",
              "    </div>\n",
              "  </div>\n"
            ]
          },
          "metadata": {},
          "execution_count": 15
        }
      ]
    },
    {
      "cell_type": "code",
      "source": [
        "print(train.shape)\n",
        "print(test.shape)\n",
        "print(valid.shape)"
      ],
      "metadata": {
        "colab": {
          "base_uri": "https://localhost:8080/"
        },
        "id": "GDrtukQcZEkT",
        "outputId": "966ecc76-fc5b-468c-8414-c30200573846"
      },
      "execution_count": null,
      "outputs": [
        {
          "output_type": "stream",
          "name": "stdout",
          "text": [
            "(40000, 2)\n",
            "(5000, 2)\n",
            "(5000, 2)\n"
          ]
        }
      ]
    },
    {
      "cell_type": "markdown",
      "source": [
        "## Text Preprocessing"
      ],
      "metadata": {
        "id": "6NxIt-zyik4q"
      }
    },
    {
      "cell_type": "code",
      "source": [
        "import re\n",
        "import nltk\n",
        "from nltk.corpus import stopwords\n",
        "from nltk.tokenize import word_tokenize\n",
        "from nltk.stem import WordNetLemmatizer"
      ],
      "metadata": {
        "id": "XUQEGX-Lej5Y"
      },
      "execution_count": 2,
      "outputs": []
    },
    {
      "cell_type": "code",
      "source": [
        "#download nltk resources\n",
        "nltk.download('punkt')\n",
        "nltk.download('stopwords')\n",
        "nltk.download('wordnet')"
      ],
      "metadata": {
        "colab": {
          "base_uri": "https://localhost:8080/"
        },
        "id": "NI1hXJZbjaFB",
        "outputId": "ba4a13df-6fc8-44ba-9bbe-4d1669b3f582"
      },
      "execution_count": 3,
      "outputs": [
        {
          "output_type": "stream",
          "name": "stderr",
          "text": [
            "[nltk_data] Downloading package punkt to /root/nltk_data...\n",
            "[nltk_data]   Package punkt is already up-to-date!\n",
            "[nltk_data] Downloading package stopwords to /root/nltk_data...\n",
            "[nltk_data]   Package stopwords is already up-to-date!\n",
            "[nltk_data] Downloading package wordnet to /root/nltk_data...\n",
            "[nltk_data]   Package wordnet is already up-to-date!\n"
          ]
        },
        {
          "output_type": "execute_result",
          "data": {
            "text/plain": [
              "True"
            ]
          },
          "metadata": {},
          "execution_count": 3
        }
      ]
    },
    {
      "cell_type": "markdown",
      "source": [
        "#### To-do:\n",
        "- remove special characters e.g tags, etc.\n",
        "- convert text to lowercase\n",
        "- tokenize the text (split it into individual tokens or words)\n",
        "- remove stop words\n",
        "- stemming(removing the suffixes from words to create a stem) & lemmitization(convert word to its base form)"
      ],
      "metadata": {
        "id": "ajoNUksLp_1y"
      }
    },
    {
      "cell_type": "code",
      "source": [
        "def preprocess_text(text):\n",
        "\n",
        "    # Remove HTML tags\n",
        "    text = re.sub('<[^>]*>', '', text)\n",
        "\n",
        "    # Remove non-alphabetic characters and convert to lowercase\n",
        "    text = re.sub('[^a-zA-Z]', ' ', text).lower()\n",
        "\n",
        "    # Tokenize the text\n",
        "    words = word_tokenize(text)\n",
        "\n",
        "    # Remove stopwords\n",
        "    stop_words = set(stopwords.words('english'))\n",
        "    words = [word for word in words if word not in stop_words]\n",
        "\n",
        "    # Lemmatize the words\n",
        "    lemmatizer = WordNetLemmatizer()\n",
        "    words = [lemmatizer.lemmatize(word) for word in words]\n",
        "\n",
        "    # Combine words back into a single string\n",
        "    preprocessed_text = ' '.join(words)\n",
        "\n",
        "    return preprocessed_text"
      ],
      "metadata": {
        "id": "IlmelGSnpoNe"
      },
      "execution_count": 4,
      "outputs": []
    },
    {
      "cell_type": "code",
      "source": [
        "#testing the function\n",
        "preprocess_text(\"This is Melodie, and she's doing nlp for the first time <tgif>. Hoorahh!!\")"
      ],
      "metadata": {
        "colab": {
          "base_uri": "https://localhost:8080/",
          "height": 35
        },
        "id": "qCy9emYQXUoC",
        "outputId": "c7b06bdb-ca56-4983-8dfe-c2beaa33dea3"
      },
      "execution_count": 5,
      "outputs": [
        {
          "output_type": "execute_result",
          "data": {
            "text/plain": [
              "'melodie nlp first time hoorahh'"
            ],
            "application/vnd.google.colaboratory.intrinsic+json": {
              "type": "string"
            }
          },
          "metadata": {},
          "execution_count": 5
        }
      ]
    },
    {
      "cell_type": "markdown",
      "source": [
        "#### Preprocessing our data"
      ],
      "metadata": {
        "id": "7i3fnTzJhBa8"
      }
    },
    {
      "cell_type": "code",
      "source": [
        "train['preprocessed_text'] = train['text'].apply(preprocess_text)\n",
        "test['preprocessed_text'] = test['text'].apply(preprocess_text)\n",
        "valid['preprocessed_text'] = valid['text'].apply(preprocess_text)"
      ],
      "metadata": {
        "id": "yl1-YCXPfMkI"
      },
      "execution_count": 10,
      "outputs": []
    },
    {
      "cell_type": "code",
      "source": [
        "train.head()"
      ],
      "metadata": {
        "colab": {
          "base_uri": "https://localhost:8080/",
          "height": 206
        },
        "id": "YNo3Dd3dhNXw",
        "outputId": "3bd74f50-006c-4ee6-e6b5-3afe4fd96392"
      },
      "execution_count": 11,
      "outputs": [
        {
          "output_type": "execute_result",
          "data": {
            "text/plain": [
              "                                                text  label  \\\n",
              "0  I grew up (b. 1965) watching and loving the Th...      0   \n",
              "1  When I put this movie in my DVD player, and sa...      0   \n",
              "2  Why do people who do not know what a particula...      0   \n",
              "3  Even though I have great interest in Biblical ...      0   \n",
              "4  Im a die hard Dads Army fan and nothing will e...      1   \n",
              "\n",
              "                                   preprocessed_text  \n",
              "0  grew b watching loving thunderbird mate school...  \n",
              "1  put movie dvd player sat coke chip expectation...  \n",
              "2  people know particular time past like feel nee...  \n",
              "3  even though great interest biblical movie bore...  \n",
              "4  im die hard dad army fan nothing ever change g...  "
            ],
            "text/html": [
              "\n",
              "\n",
              "  <div id=\"df-4b5d033c-6537-48f0-9a7a-547a89280cde\">\n",
              "    <div class=\"colab-df-container\">\n",
              "      <div>\n",
              "<style scoped>\n",
              "    .dataframe tbody tr th:only-of-type {\n",
              "        vertical-align: middle;\n",
              "    }\n",
              "\n",
              "    .dataframe tbody tr th {\n",
              "        vertical-align: top;\n",
              "    }\n",
              "\n",
              "    .dataframe thead th {\n",
              "        text-align: right;\n",
              "    }\n",
              "</style>\n",
              "<table border=\"1\" class=\"dataframe\">\n",
              "  <thead>\n",
              "    <tr style=\"text-align: right;\">\n",
              "      <th></th>\n",
              "      <th>text</th>\n",
              "      <th>label</th>\n",
              "      <th>preprocessed_text</th>\n",
              "    </tr>\n",
              "  </thead>\n",
              "  <tbody>\n",
              "    <tr>\n",
              "      <th>0</th>\n",
              "      <td>I grew up (b. 1965) watching and loving the Th...</td>\n",
              "      <td>0</td>\n",
              "      <td>grew b watching loving thunderbird mate school...</td>\n",
              "    </tr>\n",
              "    <tr>\n",
              "      <th>1</th>\n",
              "      <td>When I put this movie in my DVD player, and sa...</td>\n",
              "      <td>0</td>\n",
              "      <td>put movie dvd player sat coke chip expectation...</td>\n",
              "    </tr>\n",
              "    <tr>\n",
              "      <th>2</th>\n",
              "      <td>Why do people who do not know what a particula...</td>\n",
              "      <td>0</td>\n",
              "      <td>people know particular time past like feel nee...</td>\n",
              "    </tr>\n",
              "    <tr>\n",
              "      <th>3</th>\n",
              "      <td>Even though I have great interest in Biblical ...</td>\n",
              "      <td>0</td>\n",
              "      <td>even though great interest biblical movie bore...</td>\n",
              "    </tr>\n",
              "    <tr>\n",
              "      <th>4</th>\n",
              "      <td>Im a die hard Dads Army fan and nothing will e...</td>\n",
              "      <td>1</td>\n",
              "      <td>im die hard dad army fan nothing ever change g...</td>\n",
              "    </tr>\n",
              "  </tbody>\n",
              "</table>\n",
              "</div>\n",
              "      <button class=\"colab-df-convert\" onclick=\"convertToInteractive('df-4b5d033c-6537-48f0-9a7a-547a89280cde')\"\n",
              "              title=\"Convert this dataframe to an interactive table.\"\n",
              "              style=\"display:none;\">\n",
              "\n",
              "  <svg xmlns=\"http://www.w3.org/2000/svg\" height=\"24px\"viewBox=\"0 0 24 24\"\n",
              "       width=\"24px\">\n",
              "    <path d=\"M0 0h24v24H0V0z\" fill=\"none\"/>\n",
              "    <path d=\"M18.56 5.44l.94 2.06.94-2.06 2.06-.94-2.06-.94-.94-2.06-.94 2.06-2.06.94zm-11 1L8.5 8.5l.94-2.06 2.06-.94-2.06-.94L8.5 2.5l-.94 2.06-2.06.94zm10 10l.94 2.06.94-2.06 2.06-.94-2.06-.94-.94-2.06-.94 2.06-2.06.94z\"/><path d=\"M17.41 7.96l-1.37-1.37c-.4-.4-.92-.59-1.43-.59-.52 0-1.04.2-1.43.59L10.3 9.45l-7.72 7.72c-.78.78-.78 2.05 0 2.83L4 21.41c.39.39.9.59 1.41.59.51 0 1.02-.2 1.41-.59l7.78-7.78 2.81-2.81c.8-.78.8-2.07 0-2.86zM5.41 20L4 18.59l7.72-7.72 1.47 1.35L5.41 20z\"/>\n",
              "  </svg>\n",
              "      </button>\n",
              "\n",
              "\n",
              "\n",
              "    <div id=\"df-6c51e405-2401-4dd5-a644-89faeec2e703\">\n",
              "      <button class=\"colab-df-quickchart\" onclick=\"quickchart('df-6c51e405-2401-4dd5-a644-89faeec2e703')\"\n",
              "              title=\"Suggest charts.\"\n",
              "              style=\"display:none;\">\n",
              "\n",
              "<svg xmlns=\"http://www.w3.org/2000/svg\" height=\"24px\"viewBox=\"0 0 24 24\"\n",
              "     width=\"24px\">\n",
              "    <g>\n",
              "        <path d=\"M19 3H5c-1.1 0-2 .9-2 2v14c0 1.1.9 2 2 2h14c1.1 0 2-.9 2-2V5c0-1.1-.9-2-2-2zM9 17H7v-7h2v7zm4 0h-2V7h2v10zm4 0h-2v-4h2v4z\"/>\n",
              "    </g>\n",
              "</svg>\n",
              "      </button>\n",
              "    </div>\n",
              "\n",
              "<style>\n",
              "  .colab-df-quickchart {\n",
              "    background-color: #E8F0FE;\n",
              "    border: none;\n",
              "    border-radius: 50%;\n",
              "    cursor: pointer;\n",
              "    display: none;\n",
              "    fill: #1967D2;\n",
              "    height: 32px;\n",
              "    padding: 0 0 0 0;\n",
              "    width: 32px;\n",
              "  }\n",
              "\n",
              "  .colab-df-quickchart:hover {\n",
              "    background-color: #E2EBFA;\n",
              "    box-shadow: 0px 1px 2px rgba(60, 64, 67, 0.3), 0px 1px 3px 1px rgba(60, 64, 67, 0.15);\n",
              "    fill: #174EA6;\n",
              "  }\n",
              "\n",
              "  [theme=dark] .colab-df-quickchart {\n",
              "    background-color: #3B4455;\n",
              "    fill: #D2E3FC;\n",
              "  }\n",
              "\n",
              "  [theme=dark] .colab-df-quickchart:hover {\n",
              "    background-color: #434B5C;\n",
              "    box-shadow: 0px 1px 3px 1px rgba(0, 0, 0, 0.15);\n",
              "    filter: drop-shadow(0px 1px 2px rgba(0, 0, 0, 0.3));\n",
              "    fill: #FFFFFF;\n",
              "  }\n",
              "</style>\n",
              "\n",
              "    <script>\n",
              "      async function quickchart(key) {\n",
              "        const containerElement = document.querySelector('#' + key);\n",
              "        const charts = await google.colab.kernel.invokeFunction(\n",
              "            'suggestCharts', [key], {});\n",
              "      }\n",
              "    </script>\n",
              "\n",
              "      <script>\n",
              "\n",
              "function displayQuickchartButton(domScope) {\n",
              "  let quickchartButtonEl =\n",
              "    domScope.querySelector('#df-6c51e405-2401-4dd5-a644-89faeec2e703 button.colab-df-quickchart');\n",
              "  quickchartButtonEl.style.display =\n",
              "    google.colab.kernel.accessAllowed ? 'block' : 'none';\n",
              "}\n",
              "\n",
              "        displayQuickchartButton(document);\n",
              "      </script>\n",
              "      <style>\n",
              "    .colab-df-container {\n",
              "      display:flex;\n",
              "      flex-wrap:wrap;\n",
              "      gap: 12px;\n",
              "    }\n",
              "\n",
              "    .colab-df-convert {\n",
              "      background-color: #E8F0FE;\n",
              "      border: none;\n",
              "      border-radius: 50%;\n",
              "      cursor: pointer;\n",
              "      display: none;\n",
              "      fill: #1967D2;\n",
              "      height: 32px;\n",
              "      padding: 0 0 0 0;\n",
              "      width: 32px;\n",
              "    }\n",
              "\n",
              "    .colab-df-convert:hover {\n",
              "      background-color: #E2EBFA;\n",
              "      box-shadow: 0px 1px 2px rgba(60, 64, 67, 0.3), 0px 1px 3px 1px rgba(60, 64, 67, 0.15);\n",
              "      fill: #174EA6;\n",
              "    }\n",
              "\n",
              "    [theme=dark] .colab-df-convert {\n",
              "      background-color: #3B4455;\n",
              "      fill: #D2E3FC;\n",
              "    }\n",
              "\n",
              "    [theme=dark] .colab-df-convert:hover {\n",
              "      background-color: #434B5C;\n",
              "      box-shadow: 0px 1px 3px 1px rgba(0, 0, 0, 0.15);\n",
              "      filter: drop-shadow(0px 1px 2px rgba(0, 0, 0, 0.3));\n",
              "      fill: #FFFFFF;\n",
              "    }\n",
              "  </style>\n",
              "\n",
              "      <script>\n",
              "        const buttonEl =\n",
              "          document.querySelector('#df-4b5d033c-6537-48f0-9a7a-547a89280cde button.colab-df-convert');\n",
              "        buttonEl.style.display =\n",
              "          google.colab.kernel.accessAllowed ? 'block' : 'none';\n",
              "\n",
              "        async function convertToInteractive(key) {\n",
              "          const element = document.querySelector('#df-4b5d033c-6537-48f0-9a7a-547a89280cde');\n",
              "          const dataTable =\n",
              "            await google.colab.kernel.invokeFunction('convertToInteractive',\n",
              "                                                     [key], {});\n",
              "          if (!dataTable) return;\n",
              "\n",
              "          const docLinkHtml = 'Like what you see? Visit the ' +\n",
              "            '<a target=\"_blank\" href=https://colab.research.google.com/notebooks/data_table.ipynb>data table notebook</a>'\n",
              "            + ' to learn more about interactive tables.';\n",
              "          element.innerHTML = '';\n",
              "          dataTable['output_type'] = 'display_data';\n",
              "          await google.colab.output.renderOutput(dataTable, element);\n",
              "          const docLink = document.createElement('div');\n",
              "          docLink.innerHTML = docLinkHtml;\n",
              "          element.appendChild(docLink);\n",
              "        }\n",
              "      </script>\n",
              "    </div>\n",
              "  </div>\n"
            ]
          },
          "metadata": {},
          "execution_count": 11
        }
      ]
    },
    {
      "cell_type": "markdown",
      "source": [
        "## Vectorization & Models\n"
      ],
      "metadata": {
        "id": "H3mXhRXyh-tW"
      }
    },
    {
      "cell_type": "code",
      "source": [
        "from sklearn.feature_extraction.text import CountVectorizer, TfidfVectorizer\n",
        "from sklearn.svm import SVC\n",
        "from sklearn.metrics import accuracy_score\n",
        "from gensim.models import Word2Vec"
      ],
      "metadata": {
        "id": "wEthm9w8icph"
      },
      "execution_count": 6,
      "outputs": []
    },
    {
      "cell_type": "code",
      "source": [
        "X_train = train['preprocessed_text']\n",
        "y_train = train['label']\n",
        "X_test = test['preprocessed_text']\n",
        "y_test = test['label']\n",
        "X_valid = valid['preprocessed_text']\n",
        "y_valid = valid['label']"
      ],
      "metadata": {
        "id": "79PkiQ0Glnsz"
      },
      "execution_count": null,
      "outputs": []
    },
    {
      "cell_type": "markdown",
      "source": [
        "#### SVM with Bag of Wordss and TFID Vectorizer"
      ],
      "metadata": {
        "id": "kMGmJoQBnghq"
      }
    },
    {
      "cell_type": "code",
      "source": [
        "#we'll create a function that uses SVM to train data with Bag of Words, and TFID vectorization techniques\n",
        "\n",
        "def train_svm_with_representations(train_data, test_data, representation):\n",
        "    if representation == 'bow':\n",
        "        vectorizer = CountVectorizer()\n",
        "    elif representation == 'tfidf':\n",
        "        vectorizer = TfidfVectorizer()\n",
        "    else:\n",
        "        raise ValueError(\"Invalid representation. Choose 'bow' or 'tfidf'.\")\n",
        "\n",
        "    X_train = vectorizer.fit_transform(train_data)\n",
        "    X_test = vectorizer.transform(test_data)\n",
        "\n",
        "    clf = SVC()\n",
        "    clf.fit(X_train, y_train)\n",
        "    y_pred = clf.predict(X_test)\n",
        "\n",
        "    return y_pred\n"
      ],
      "metadata": {
        "id": "7wCbKtTyhTx0"
      },
      "execution_count": null,
      "outputs": []
    },
    {
      "cell_type": "markdown",
      "source": [
        "###### Bag of Words"
      ],
      "metadata": {
        "id": "bbcPY86rn0Os"
      }
    },
    {
      "cell_type": "code",
      "source": [
        "%%time\n",
        "y_pred_bow = train_svm_with_representations(X_train, X_test, 'bow')\n",
        "accuracy_bow = accuracy_score(y_test, y_pred_bow)\n",
        "print(accuracy_bow)"
      ],
      "metadata": {
        "colab": {
          "base_uri": "https://localhost:8080/"
        },
        "id": "xhrS0UE9m5Tn",
        "outputId": "54942e1d-79ae-496b-fd2c-d86eb96fe0b4"
      },
      "execution_count": null,
      "outputs": [
        {
          "output_type": "stream",
          "name": "stdout",
          "text": [
            "0.8804\n"
          ]
        }
      ]
    },
    {
      "cell_type": "markdown",
      "source": [
        "##### TFID Vectorizer"
      ],
      "metadata": {
        "id": "LDZG6o3RoI5s"
      }
    },
    {
      "cell_type": "code",
      "source": [
        "%%time\n",
        "y_pred_tfidf = train_svm_with_representations(X_train, X_test, 'tfidf')\n",
        "accuracy_tfidf = accuracy_score(y_test, y_pred_tfidf)\n",
        "print(accuracy_tfidf)"
      ],
      "metadata": {
        "colab": {
          "base_uri": "https://localhost:8080/"
        },
        "id": "Ilm-RatpoNeM",
        "outputId": "5fa0b874-392a-4670-a500-8a835d6141a7"
      },
      "execution_count": null,
      "outputs": [
        {
          "output_type": "stream",
          "name": "stdout",
          "text": [
            "0.9004\n"
          ]
        }
      ]
    },
    {
      "cell_type": "markdown",
      "source": [
        "#### SVM with Custom Word2Vec Vectorizer"
      ],
      "metadata": {
        "id": "xwcE6XajnXq7"
      }
    },
    {
      "cell_type": "code",
      "source": [
        "def get_word2vec_embeddings(data):\n",
        "    tokenized_sentences = [sentence.split() for sentence in data]\n",
        "    model = Word2Vec(tokenized_sentences, vector_size=100, window=5, min_count=1, workers=4)\n",
        "    embeddings = np.array([np.mean([model.wv[word] for word in sentence], axis=0) for sentence in tokenized_sentences])\n",
        "\n",
        "    return embeddings\n",
        "\n",
        "def train_svm_with_word2vec(train_data, test_data):\n",
        "    X_train = get_word2vec_embeddings(train_data)\n",
        "    X_test = get_word2vec_embeddings(test_data)\n",
        "\n",
        "    clf = SVC()\n",
        "    clf.fit(X_train, y_train)\n",
        "    y_pred = clf.predict(X_test)\n",
        "\n",
        "    return y_pred"
      ],
      "metadata": {
        "id": "i1BCcebLnao3"
      },
      "execution_count": null,
      "outputs": []
    },
    {
      "cell_type": "code",
      "source": [
        "%%time\n",
        "y_pred_word2vec = train_svm_with_word2vec(X_train, X_test)\n",
        "accuracy_word2vec = accuracy_score(y_test, y_pred_word2vec)\n",
        "print(accuracy_word2vec)"
      ],
      "metadata": {
        "colab": {
          "base_uri": "https://localhost:8080/"
        },
        "id": "9QtnOzLJoge0",
        "outputId": "00849342-290b-44e1-f16d-16d8b267806f"
      },
      "execution_count": null,
      "outputs": [
        {
          "output_type": "stream",
          "name": "stdout",
          "text": [
            "0.5262\n",
            "CPU times: user 3min 46s, sys: 1.14 s, total: 3min 47s\n",
            "Wall time: 3min 22s\n"
          ]
        }
      ]
    },
    {
      "cell_type": "markdown",
      "source": [
        "#### SVM with Pretrained Google News 300 Word2Vec Vectorizer"
      ],
      "metadata": {
        "id": "7-WMDcmoqU_d"
      }
    },
    {
      "cell_type": "code",
      "source": [
        "import gensim.downloader as api\n",
        "\n",
        "def get_google_word2vec_embeddings(data):\n",
        "    # Load the Google News Word2Vec model\n",
        "    model = api.load(\"word2vec-google-news-300\")\n",
        "\n",
        "    tokenized_sentences = [sentence.split() for sentence in data]\n",
        "    embeddings = []\n",
        "\n",
        "    for sentence in tokenized_sentences:\n",
        "        sentence_embeddings = []\n",
        "        for word in sentence:\n",
        "            if word in model:\n",
        "                sentence_embeddings.append(model[word])\n",
        "        if sentence_embeddings:\n",
        "            embeddings.append(np.mean(sentence_embeddings, axis=0))\n",
        "        else:\n",
        "            embeddings.append(np.zeros(300))\n",
        "\n",
        "    return np.array(embeddings)\n",
        "\n",
        "def train_svm_with_google_word2vec(train_data, test_data):\n",
        "    X_train = get_google_word2vec_embeddings(train_data)\n",
        "    X_test = get_google_word2vec_embeddings(test_data)\n",
        "\n",
        "    clf = SVC()\n",
        "    clf.fit(X_train, y_train)\n",
        "    y_pred = clf.predict(X_test)\n",
        "\n",
        "    return y_pred\n"
      ],
      "metadata": {
        "id": "XG9js1i9qSij"
      },
      "execution_count": null,
      "outputs": []
    },
    {
      "cell_type": "code",
      "source": [
        "y_pred_google_word2vec = train_svm_with_google_word2vec(X_train, X_test)\n",
        "accuracy_google_word2vec = accuracy_score(y_test, y_pred_google_word2vec)\n",
        "print(accuracy_google_word2vec)"
      ],
      "metadata": {
        "colab": {
          "base_uri": "https://localhost:8080/"
        },
        "id": "zb6NlBQKq7o0",
        "outputId": "ed76f26a-643a-4d7d-d7c6-152109079027"
      },
      "execution_count": null,
      "outputs": [
        {
          "output_type": "stream",
          "name": "stdout",
          "text": [
            "[==================================================] 100.0% 1662.8/1662.8MB downloaded\n",
            "0.8574\n"
          ]
        }
      ]
    },
    {
      "cell_type": "markdown",
      "source": [
        "####  Recurrent Neural Networks"
      ],
      "metadata": {
        "id": "UGO-yYm0womz"
      }
    },
    {
      "cell_type": "markdown",
      "source": [
        "##### Vanilla RNN"
      ],
      "metadata": {
        "id": "MbLpUFZ-MqV1"
      }
    },
    {
      "cell_type": "markdown",
      "source": [
        "Using preprocessed text"
      ],
      "metadata": {
        "id": "MStFHNdTMLQE"
      }
    },
    {
      "cell_type": "code",
      "source": [
        "import tensorflow as tf\n",
        "from tensorflow.keras.models import Sequential\n",
        "from tensorflow.keras.layers import SimpleRNN, Dense, Embedding, Dropout\n",
        "from tensorflow.keras.preprocessing.text import Tokenizer\n",
        "from tensorflow.keras.preprocessing.sequence import pad_sequences\n",
        "from tensorflow.keras.utils import to_categorical\n",
        "from sklearn.model_selection import train_test_split\n",
        "from tensorflow.keras.callbacks import EarlyStopping\n",
        "from sklearn.preprocessing import LabelEncoder"
      ],
      "metadata": {
        "id": "LyGN7ynJL7RR"
      },
      "execution_count": 7,
      "outputs": []
    },
    {
      "cell_type": "code",
      "source": [
        "# Tokenize the data\n",
        "max_words = 10000\n",
        "max_len = 100\n",
        "tokenizer = Tokenizer(num_words=max_words)\n",
        "tokenizer.fit_on_texts(train['preprocessed_text'])"
      ],
      "metadata": {
        "id": "_rJCfp59z20S"
      },
      "execution_count": null,
      "outputs": []
    },
    {
      "cell_type": "code",
      "source": [
        "X_train = tokenizer.texts_to_sequences(train['preprocessed_text'])\n",
        "X_test = tokenizer.texts_to_sequences(test['preprocessed_text'])\n",
        "X_valid = tokenizer.texts_to_sequences(valid['preprocessed_text'])\n",
        "\n",
        "X_train = pad_sequences(X_train, maxlen=max_len)\n",
        "X_test = pad_sequences(X_test, maxlen=max_len)\n",
        "X_valid = pad_sequences(X_valid, maxlen=max_len)\n",
        "\n",
        "y_train = to_categorical(train['label'])\n",
        "y_test = to_categorical(test['label'])\n",
        "y_valid = to_categorical(valid['label'])"
      ],
      "metadata": {
        "id": "OsHaVmyGyusL"
      },
      "execution_count": null,
      "outputs": []
    },
    {
      "cell_type": "code",
      "source": [
        "# Build the model\n",
        "model = Sequential()\n",
        "model.add(Embedding(max_words, 128, input_length=max_len))\n",
        "model.add(SimpleRNN(64))\n",
        "model.add(Dense(2, activation='softmax'))\n",
        "\n",
        "# Compile the model\n",
        "model.compile(optimizer='adam', loss='categorical_crossentropy', metrics=['accuracy'])"
      ],
      "metadata": {
        "id": "Y6u0FKrUyPXR"
      },
      "execution_count": null,
      "outputs": []
    },
    {
      "cell_type": "code",
      "source": [
        "# Train the model\n",
        "history = model.fit(X_train, y_train, validation_data=(X_valid, y_valid), epochs=25, batch_size=128)\n",
        "\n",
        "# Evaluate the model\n",
        "loss, accuracy = model.evaluate(X_test, y_test)\n",
        "\n",
        "print(\"Test accuracy:\", accuracy)"
      ],
      "metadata": {
        "id": "WGsseHtqyO4Q",
        "colab": {
          "base_uri": "https://localhost:8080/"
        },
        "outputId": "20543944-f96b-4ddc-ed71-4d10d6f75a21"
      },
      "execution_count": null,
      "outputs": [
        {
          "output_type": "stream",
          "name": "stdout",
          "text": [
            "Epoch 1/25\n",
            "313/313 [==============================] - 17s 51ms/step - loss: 0.4201 - accuracy: 0.7927 - val_loss: 0.3188 - val_accuracy: 0.8602\n",
            "Epoch 2/25\n",
            "313/313 [==============================] - 15s 47ms/step - loss: 0.2340 - accuracy: 0.9086 - val_loss: 0.3566 - val_accuracy: 0.8594\n",
            "Epoch 3/25\n",
            "313/313 [==============================] - 15s 47ms/step - loss: 0.1250 - accuracy: 0.9560 - val_loss: 0.4319 - val_accuracy: 0.8616\n",
            "Epoch 4/25\n",
            "313/313 [==============================] - 15s 47ms/step - loss: 0.0410 - accuracy: 0.9869 - val_loss: 0.5428 - val_accuracy: 0.8532\n",
            "Epoch 5/25\n",
            "313/313 [==============================] - 15s 47ms/step - loss: 0.0184 - accuracy: 0.9948 - val_loss: 0.6301 - val_accuracy: 0.8526\n",
            "Epoch 6/25\n",
            "313/313 [==============================] - 16s 50ms/step - loss: 0.0132 - accuracy: 0.9963 - val_loss: 0.7404 - val_accuracy: 0.8538\n",
            "Epoch 7/25\n",
            "313/313 [==============================] - 15s 47ms/step - loss: 0.0159 - accuracy: 0.9947 - val_loss: 0.7175 - val_accuracy: 0.8466\n",
            "Epoch 8/25\n",
            "313/313 [==============================] - 15s 47ms/step - loss: 0.0178 - accuracy: 0.9940 - val_loss: 0.7841 - val_accuracy: 0.8502\n",
            "Epoch 9/25\n",
            "313/313 [==============================] - 15s 47ms/step - loss: 0.0253 - accuracy: 0.9916 - val_loss: 0.8034 - val_accuracy: 0.8340\n",
            "Epoch 10/25\n",
            "313/313 [==============================] - 19s 59ms/step - loss: 0.0106 - accuracy: 0.9965 - val_loss: 0.8484 - val_accuracy: 0.8256\n",
            "Epoch 11/25\n",
            "313/313 [==============================] - 20s 63ms/step - loss: 0.0068 - accuracy: 0.9981 - val_loss: 0.8746 - val_accuracy: 0.8352\n",
            "Epoch 12/25\n",
            "313/313 [==============================] - 17s 55ms/step - loss: 0.0211 - accuracy: 0.9931 - val_loss: 0.8001 - val_accuracy: 0.8370\n",
            "Epoch 13/25\n",
            "313/313 [==============================] - 15s 47ms/step - loss: 0.0232 - accuracy: 0.9920 - val_loss: 0.9558 - val_accuracy: 0.7892\n",
            "Epoch 14/25\n",
            "313/313 [==============================] - 15s 47ms/step - loss: 0.0159 - accuracy: 0.9947 - val_loss: 0.8880 - val_accuracy: 0.8268\n",
            "Epoch 15/25\n",
            "313/313 [==============================] - 15s 47ms/step - loss: 0.0053 - accuracy: 0.9983 - val_loss: 0.9248 - val_accuracy: 0.8346\n",
            "Epoch 16/25\n",
            "313/313 [==============================] - 15s 47ms/step - loss: 0.0065 - accuracy: 0.9979 - val_loss: 0.9460 - val_accuracy: 0.8454\n",
            "Epoch 17/25\n",
            "313/313 [==============================] - 23s 73ms/step - loss: 0.0053 - accuracy: 0.9982 - val_loss: 0.9540 - val_accuracy: 0.8436\n",
            "Epoch 18/25\n",
            "313/313 [==============================] - 17s 55ms/step - loss: 0.0058 - accuracy: 0.9983 - val_loss: 1.0544 - val_accuracy: 0.8294\n",
            "Epoch 19/25\n",
            "313/313 [==============================] - 15s 47ms/step - loss: 0.0165 - accuracy: 0.9946 - val_loss: 0.9879 - val_accuracy: 0.8316\n",
            "Epoch 20/25\n",
            "313/313 [==============================] - 16s 51ms/step - loss: 0.0147 - accuracy: 0.9949 - val_loss: 0.9388 - val_accuracy: 0.8222\n",
            "Epoch 21/25\n",
            "313/313 [==============================] - 18s 57ms/step - loss: 0.0053 - accuracy: 0.9983 - val_loss: 1.0334 - val_accuracy: 0.8368\n",
            "Epoch 22/25\n",
            "313/313 [==============================] - 19s 60ms/step - loss: 0.0053 - accuracy: 0.9980 - val_loss: 1.0899 - val_accuracy: 0.8352\n",
            "Epoch 23/25\n",
            "313/313 [==============================] - 15s 48ms/step - loss: 0.0190 - accuracy: 0.9930 - val_loss: 1.0295 - val_accuracy: 0.8516\n",
            "Epoch 24/25\n",
            "313/313 [==============================] - 17s 56ms/step - loss: 0.0210 - accuracy: 0.9936 - val_loss: 0.9744 - val_accuracy: 0.8242\n",
            "Epoch 25/25\n",
            "313/313 [==============================] - 15s 47ms/step - loss: 0.0094 - accuracy: 0.9968 - val_loss: 1.2242 - val_accuracy: 0.7792\n",
            "157/157 [==============================] - 1s 5ms/step - loss: 1.1706 - accuracy: 0.7942\n",
            "Test accuracy: 0.7942000031471252\n"
          ]
        }
      ]
    },
    {
      "cell_type": "markdown",
      "source": [
        "Using raw text"
      ],
      "metadata": {
        "id": "WqGOOFl9MQHT"
      }
    },
    {
      "cell_type": "code",
      "source": [
        "tokenizer = Tokenizer(num_words=max_words)\n",
        "tokenizer.fit_on_texts(train['text'])\n",
        "\n",
        "X_train1 = tokenizer.texts_to_sequences(train['text'])\n",
        "X_test1 = tokenizer.texts_to_sequences(test['text'])\n",
        "X_valid1 = tokenizer.texts_to_sequences(valid['text'])\n",
        "\n",
        "X_train1 = pad_sequences(X_train1, maxlen=max_len)\n",
        "X_test1 = pad_sequences(X_test1, maxlen=max_len)\n",
        "X_valid1 = pad_sequences(X_valid1, maxlen=max_len)\n",
        "\n",
        "y_train1 = to_categorical(train['label'])\n",
        "y_test1 = to_categorical(test['label'])\n",
        "y_valid1 = to_categorical(valid['label'])\n",
        "\n",
        "# Build the model\n",
        "model = Sequential()\n",
        "model.add(Embedding(max_words, 128, input_length=max_len))\n",
        "model.add(SimpleRNN(64))\n",
        "model.add(Dense(2, activation='softmax'))\n",
        "\n",
        "# Compile the model\n",
        "model.compile(optimizer='adam', loss='categorical_crossentropy', metrics=['accuracy'])\n",
        "\n",
        "# Set up early stopping\n",
        "early_stop = EarlyStopping(monitor='val_loss', patience=10, restore_best_weights=True)"
      ],
      "metadata": {
        "id": "f8vAIPDqDw1T"
      },
      "execution_count": null,
      "outputs": []
    },
    {
      "cell_type": "code",
      "source": [
        "# Train the model\n",
        "history = model.fit(X_train1, y_train1, validation_data=(X_valid1, y_valid1), epochs=25, batch_size=128,\n",
        "                    callbacks=[early_stop])\n",
        "\n",
        "# Evaluate the model\n",
        "loss, accuracy = model.evaluate(X_test1, y_test1)\n",
        "\n",
        "print(\"Test accuracy:\", accuracy)"
      ],
      "metadata": {
        "colab": {
          "base_uri": "https://localhost:8080/"
        },
        "id": "_8S06JDkNwYm",
        "outputId": "8933ef95-d58a-4d46-9706-f02ea0b7ca06"
      },
      "execution_count": null,
      "outputs": [
        {
          "output_type": "stream",
          "name": "stdout",
          "text": [
            "Epoch 1/25\n",
            "313/313 [==============================] - 19s 57ms/step - loss: 0.4208 - accuracy: 0.8012 - val_loss: 0.3628 - val_accuracy: 0.8504\n",
            "Epoch 2/25\n",
            "313/313 [==============================] - 20s 64ms/step - loss: 0.2561 - accuracy: 0.8978 - val_loss: 0.3550 - val_accuracy: 0.8566\n",
            "Epoch 3/25\n",
            "313/313 [==============================] - 19s 62ms/step - loss: 0.1385 - accuracy: 0.9491 - val_loss: 0.4932 - val_accuracy: 0.8512\n",
            "Epoch 4/25\n",
            "313/313 [==============================] - 17s 54ms/step - loss: 0.0562 - accuracy: 0.9818 - val_loss: 0.5796 - val_accuracy: 0.8386\n",
            "Epoch 5/25\n",
            "313/313 [==============================] - 18s 57ms/step - loss: 0.0211 - accuracy: 0.9939 - val_loss: 0.6985 - val_accuracy: 0.8300\n",
            "Epoch 6/25\n",
            "313/313 [==============================] - 21s 68ms/step - loss: 0.0140 - accuracy: 0.9962 - val_loss: 0.7431 - val_accuracy: 0.8290\n",
            "Epoch 7/25\n",
            "313/313 [==============================] - 15s 48ms/step - loss: 0.0260 - accuracy: 0.9909 - val_loss: 0.7721 - val_accuracy: 0.8244\n",
            "Epoch 8/25\n",
            "313/313 [==============================] - 17s 53ms/step - loss: 0.0208 - accuracy: 0.9930 - val_loss: 0.8203 - val_accuracy: 0.8090\n",
            "Epoch 9/25\n",
            "313/313 [==============================] - 21s 66ms/step - loss: 0.0133 - accuracy: 0.9955 - val_loss: 0.8654 - val_accuracy: 0.8250\n",
            "Epoch 10/25\n",
            "313/313 [==============================] - 17s 53ms/step - loss: 0.0153 - accuracy: 0.9948 - val_loss: 0.9073 - val_accuracy: 0.8192\n",
            "Epoch 11/25\n",
            "313/313 [==============================] - 15s 48ms/step - loss: 0.0269 - accuracy: 0.9908 - val_loss: 0.9475 - val_accuracy: 0.8170\n",
            "Epoch 12/25\n",
            "313/313 [==============================] - 15s 48ms/step - loss: 0.0214 - accuracy: 0.9924 - val_loss: 0.9057 - val_accuracy: 0.8096\n",
            "157/157 [==============================] - 1s 5ms/step - loss: 0.3528 - accuracy: 0.8552\n",
            "Test accuracy: 0.8551999926567078\n"
          ]
        }
      ]
    },
    {
      "cell_type": "markdown",
      "source": [
        "##### LSTM (Long Short Term Memory) RNN"
      ],
      "metadata": {
        "id": "mx1oMZAqOBO_"
      }
    },
    {
      "cell_type": "markdown",
      "source": [
        "Using Preprocessed text"
      ],
      "metadata": {
        "id": "2jia8iqcOQWE"
      }
    },
    {
      "cell_type": "code",
      "source": [
        "from tensorflow.keras.layers import LSTM"
      ],
      "metadata": {
        "id": "vSl7UEwRnzf4"
      },
      "execution_count": null,
      "outputs": []
    },
    {
      "cell_type": "code",
      "source": [
        "# Build the model\n",
        "lstm = Sequential()\n",
        "lstm.add(Embedding(max_words, 128, input_length=max_len))\n",
        "lstm.add(LSTM(64))\n",
        "lstm.add(Dense(2, activation='softmax'))\n",
        "\n",
        "# Compile the model\n",
        "lstm.compile(optimizer='adam', loss='categorical_crossentropy', metrics=['accuracy'])\n",
        "\n",
        "history = lstm.fit(X_train, y_train, validation_data=(X_valid, y_valid), epochs=25, batch_size=128,\n",
        "                    callbacks=[early_stop])"
      ],
      "metadata": {
        "colab": {
          "base_uri": "https://localhost:8080/"
        },
        "id": "4-idvlVNOWBI",
        "outputId": "918ca26d-7360-4311-e452-7ac4ad9669db"
      },
      "execution_count": null,
      "outputs": [
        {
          "output_type": "stream",
          "name": "stdout",
          "text": [
            "Epoch 1/25\n",
            "313/313 [==============================] - 62s 193ms/step - loss: 0.3467 - accuracy: 0.8438 - val_loss: 0.2971 - val_accuracy: 0.8788\n",
            "Epoch 2/25\n",
            "313/313 [==============================] - 53s 170ms/step - loss: 0.2199 - accuracy: 0.9136 - val_loss: 0.3009 - val_accuracy: 0.8836\n",
            "Epoch 3/25\n",
            "313/313 [==============================] - 59s 188ms/step - loss: 0.1631 - accuracy: 0.9386 - val_loss: 0.3213 - val_accuracy: 0.8786\n",
            "Epoch 4/25\n",
            "313/313 [==============================] - 48s 153ms/step - loss: 0.1237 - accuracy: 0.9532 - val_loss: 0.4098 - val_accuracy: 0.8734\n",
            "Epoch 5/25\n",
            "313/313 [==============================] - 48s 154ms/step - loss: 0.0903 - accuracy: 0.9669 - val_loss: 0.4451 - val_accuracy: 0.8642\n",
            "Epoch 6/25\n",
            "313/313 [==============================] - 47s 151ms/step - loss: 0.0704 - accuracy: 0.9751 - val_loss: 0.5188 - val_accuracy: 0.8622\n",
            "Epoch 7/25\n",
            "313/313 [==============================] - 48s 154ms/step - loss: 0.0568 - accuracy: 0.9812 - val_loss: 0.5862 - val_accuracy: 0.8588\n",
            "Epoch 8/25\n",
            "313/313 [==============================] - 47s 150ms/step - loss: 0.0399 - accuracy: 0.9876 - val_loss: 0.5960 - val_accuracy: 0.8594\n",
            "Epoch 9/25\n",
            "313/313 [==============================] - 48s 155ms/step - loss: 0.0369 - accuracy: 0.9877 - val_loss: 0.5794 - val_accuracy: 0.8590\n",
            "Epoch 10/25\n",
            "313/313 [==============================] - 47s 149ms/step - loss: 0.0240 - accuracy: 0.9926 - val_loss: 0.7631 - val_accuracy: 0.8600\n",
            "Epoch 11/25\n",
            "313/313 [==============================] - 47s 150ms/step - loss: 0.0161 - accuracy: 0.9955 - val_loss: 0.7746 - val_accuracy: 0.8560\n"
          ]
        }
      ]
    },
    {
      "cell_type": "code",
      "source": [
        "# Evaluate the model\n",
        "loss, accuracy = lstm.evaluate(X_test, y_test)\n",
        "\n",
        "print(\"Test accuracy:\", accuracy)"
      ],
      "metadata": {
        "colab": {
          "base_uri": "https://localhost:8080/"
        },
        "id": "St_1BfKCN7of",
        "outputId": "a204d182-e7aa-4ee0-fd3f-d52fc72e41b7"
      },
      "execution_count": null,
      "outputs": [
        {
          "output_type": "stream",
          "name": "stdout",
          "text": [
            "157/157 [==============================] - 2s 12ms/step - loss: 0.2973 - accuracy: 0.8790\n",
            "Test accuracy: 0.8790000081062317\n"
          ]
        }
      ]
    },
    {
      "cell_type": "markdown",
      "source": [
        "Using Raw text"
      ],
      "metadata": {
        "id": "gUlRE3iQOTx-"
      }
    },
    {
      "cell_type": "code",
      "source": [
        "# Build the model\n",
        "lstm = Sequential()\n",
        "lstm.add(Embedding(max_words, 128, input_length=max_len))\n",
        "lstm.add(LSTM(64))\n",
        "model.add(Dropout(0.5))\n",
        "lstm.add(Dense(2, activation='softmax'))\n",
        "\n",
        "# Compile the model\n",
        "lstm.compile(optimizer='adam', loss='categorical_crossentropy', metrics=['accuracy'])\n",
        "\n",
        "history = lstm.fit(X_train1, y_train1, validation_data=(X_valid1, y_valid1), epochs=25, batch_size=128,\n",
        "                    callbacks=[early_stop])\n",
        "\n",
        "# Evaluate the model\n",
        "loss, accuracy = lstm.evaluate(X_test1, y_test1)\n",
        "\n",
        "print(\"Test accuracy:\", accuracy)"
      ],
      "metadata": {
        "colab": {
          "base_uri": "https://localhost:8080/"
        },
        "id": "1BPLfE4wQQoL",
        "outputId": "a13f0abb-af08-43c4-d7a7-8daa58ccf147"
      },
      "execution_count": null,
      "outputs": [
        {
          "output_type": "stream",
          "name": "stdout",
          "text": [
            "Epoch 1/25\n",
            "313/313 [==============================] - 84s 263ms/step - loss: 0.3864 - accuracy: 0.8241 - val_loss: 0.3120 - val_accuracy: 0.8656\n",
            "Epoch 2/25\n",
            "313/313 [==============================] - 60s 191ms/step - loss: 0.2512 - accuracy: 0.8988 - val_loss: 0.3194 - val_accuracy: 0.8616\n",
            "Epoch 3/25\n",
            "313/313 [==============================] - 50s 160ms/step - loss: 0.1925 - accuracy: 0.9244 - val_loss: 0.4433 - val_accuracy: 0.8458\n",
            "Epoch 4/25\n",
            "313/313 [==============================] - 66s 209ms/step - loss: 0.1448 - accuracy: 0.9453 - val_loss: 0.4204 - val_accuracy: 0.8474\n",
            "Epoch 5/25\n",
            "313/313 [==============================] - 62s 197ms/step - loss: 0.1090 - accuracy: 0.9601 - val_loss: 0.4624 - val_accuracy: 0.8484\n",
            "Epoch 6/25\n",
            "313/313 [==============================] - 54s 173ms/step - loss: 0.0793 - accuracy: 0.9726 - val_loss: 0.6078 - val_accuracy: 0.8456\n",
            "Epoch 7/25\n",
            "313/313 [==============================] - 51s 164ms/step - loss: 0.0592 - accuracy: 0.9800 - val_loss: 0.6642 - val_accuracy: 0.8428\n",
            "Epoch 8/25\n",
            "313/313 [==============================] - 63s 202ms/step - loss: 0.0478 - accuracy: 0.9846 - val_loss: 0.6301 - val_accuracy: 0.8438\n",
            "Epoch 9/25\n",
            "313/313 [==============================] - 52s 167ms/step - loss: 0.0508 - accuracy: 0.9836 - val_loss: 0.6343 - val_accuracy: 0.8414\n",
            "Epoch 10/25\n",
            "313/313 [==============================] - 52s 167ms/step - loss: 0.0319 - accuracy: 0.9898 - val_loss: 0.7730 - val_accuracy: 0.8442\n",
            "Epoch 11/25\n",
            "313/313 [==============================] - 49s 157ms/step - loss: 0.0276 - accuracy: 0.9918 - val_loss: 0.8057 - val_accuracy: 0.8428\n",
            "157/157 [==============================] - 2s 14ms/step - loss: 0.3110 - accuracy: 0.8684\n",
            "Test accuracy: 0.868399977684021\n"
          ]
        }
      ]
    },
    {
      "cell_type": "markdown",
      "source": [
        "##### GRU (Gated Recurrent Unit) RNN"
      ],
      "metadata": {
        "id": "-e6Kphl_Qrmm"
      }
    },
    {
      "cell_type": "markdown",
      "source": [
        "Using preprocessed text"
      ],
      "metadata": {
        "id": "yUWNJFa1oJub"
      }
    },
    {
      "cell_type": "code",
      "source": [
        "from tensorflow.keras.layers import GRU"
      ],
      "metadata": {
        "id": "HfjF9sgwQpZR"
      },
      "execution_count": null,
      "outputs": []
    },
    {
      "cell_type": "code",
      "source": [
        "# Build the model\n",
        "gru = Sequential()\n",
        "gru.add(Embedding(max_words, 128, input_length=max_len))\n",
        "gru.add(GRU(64))\n",
        "gru.add(Dense(2, activation='softmax'))\n",
        "\n",
        "# Compile the model\n",
        "gru.compile(optimizer='adam', loss='categorical_crossentropy', metrics=['accuracy'])"
      ],
      "metadata": {
        "id": "9QZ_PsYQoDyv"
      },
      "execution_count": null,
      "outputs": []
    },
    {
      "cell_type": "code",
      "source": [
        "# Fit the model\n",
        "history = gru.fit(X_train, y_train, validation_data=(X_valid, y_valid), epochs=25, batch_size=128,\n",
        "                    callbacks=[early_stop])\n",
        "\n",
        "# Evaluate the model\n",
        "loss, accuracy = gru.evaluate(X_test, y_test)\n",
        "\n",
        "print(\"Test accuracy:\", accuracy)"
      ],
      "metadata": {
        "colab": {
          "base_uri": "https://localhost:8080/"
        },
        "id": "bbTh1GsIoniD",
        "outputId": "9177f233-cd9e-4fcd-8b46-1c2b85c2cc38"
      },
      "execution_count": null,
      "outputs": [
        {
          "output_type": "stream",
          "name": "stdout",
          "text": [
            "Epoch 1/25\n",
            "313/313 [==============================] - 47s 145ms/step - loss: 0.3675 - accuracy: 0.8300 - val_loss: 0.2968 - val_accuracy: 0.8778\n",
            "Epoch 2/25\n",
            "313/313 [==============================] - 49s 158ms/step - loss: 0.2265 - accuracy: 0.9105 - val_loss: 0.3043 - val_accuracy: 0.8726\n",
            "Epoch 3/25\n",
            "313/313 [==============================] - 43s 138ms/step - loss: 0.1741 - accuracy: 0.9340 - val_loss: 0.3223 - val_accuracy: 0.8726\n",
            "Epoch 4/25\n",
            "313/313 [==============================] - 45s 145ms/step - loss: 0.1325 - accuracy: 0.9506 - val_loss: 0.4476 - val_accuracy: 0.8624\n",
            "Epoch 5/25\n",
            "313/313 [==============================] - 43s 137ms/step - loss: 0.1025 - accuracy: 0.9638 - val_loss: 0.4619 - val_accuracy: 0.8632\n",
            "Epoch 6/25\n",
            "313/313 [==============================] - 45s 145ms/step - loss: 0.0798 - accuracy: 0.9722 - val_loss: 0.5101 - val_accuracy: 0.8648\n",
            "Epoch 7/25\n",
            "313/313 [==============================] - 43s 139ms/step - loss: 0.0627 - accuracy: 0.9788 - val_loss: 0.5716 - val_accuracy: 0.8602\n",
            "Epoch 8/25\n",
            "313/313 [==============================] - 45s 143ms/step - loss: 0.0511 - accuracy: 0.9834 - val_loss: 0.5362 - val_accuracy: 0.8538\n",
            "Epoch 9/25\n",
            "313/313 [==============================] - 44s 141ms/step - loss: 0.0412 - accuracy: 0.9865 - val_loss: 0.6616 - val_accuracy: 0.8596\n",
            "Epoch 10/25\n",
            "313/313 [==============================] - 43s 138ms/step - loss: 0.0263 - accuracy: 0.9915 - val_loss: 0.7849 - val_accuracy: 0.8582\n",
            "Epoch 11/25\n",
            "313/313 [==============================] - 46s 146ms/step - loss: 0.0282 - accuracy: 0.9910 - val_loss: 0.8117 - val_accuracy: 0.8552\n",
            "157/157 [==============================] - 2s 11ms/step - loss: 0.3003 - accuracy: 0.8800\n",
            "Test accuracy: 0.8799999952316284\n"
          ]
        }
      ]
    },
    {
      "cell_type": "markdown",
      "source": [
        "Using raw text"
      ],
      "metadata": {
        "id": "UHvYIMq1o0PU"
      }
    },
    {
      "cell_type": "code",
      "source": [
        "# Build the model\n",
        "gru = Sequential()\n",
        "gru.add(Embedding(max_words, 128, input_length=max_len))\n",
        "gru.add(GRU(64))\n",
        "gru.add(Dropout(0.5))\n",
        "gru.add(Dense(2, activation='softmax'))\n",
        "\n",
        "# Compile the model\n",
        "gru.compile(optimizer='adam', loss='categorical_crossentropy', metrics=['accuracy'])\n",
        "\n",
        "# Fit the model\n",
        "history = gru.fit(X_train1, y_train1, validation_data=(X_valid1, y_valid1), epochs=25, batch_size=128,\n",
        "                    callbacks=[early_stop])\n",
        "\n",
        "# Evaluate the model\n",
        "loss, accuracy = gru.evaluate(X_test1, y_test1)\n",
        "\n",
        "print(\"Test accuracy:\", accuracy)\n"
      ],
      "metadata": {
        "colab": {
          "base_uri": "https://localhost:8080/"
        },
        "id": "DmhjvDRQo2Sx",
        "outputId": "c03e9424-86fe-46a1-8891-94b2889a1d57"
      },
      "execution_count": null,
      "outputs": [
        {
          "output_type": "stream",
          "name": "stdout",
          "text": [
            "Epoch 1/25\n",
            "313/313 [==============================] - 57s 176ms/step - loss: 0.4234 - accuracy: 0.7985 - val_loss: 0.3304 - val_accuracy: 0.8554\n",
            "Epoch 2/25\n",
            "313/313 [==============================] - 50s 159ms/step - loss: 0.2670 - accuracy: 0.8917 - val_loss: 0.3141 - val_accuracy: 0.8670\n",
            "Epoch 3/25\n",
            "313/313 [==============================] - 47s 150ms/step - loss: 0.2139 - accuracy: 0.9166 - val_loss: 0.3709 - val_accuracy: 0.8604\n",
            "Epoch 4/25\n",
            "313/313 [==============================] - 46s 147ms/step - loss: 0.1624 - accuracy: 0.9394 - val_loss: 0.3618 - val_accuracy: 0.8574\n",
            "Epoch 5/25\n",
            "313/313 [==============================] - 44s 142ms/step - loss: 0.1257 - accuracy: 0.9547 - val_loss: 0.4554 - val_accuracy: 0.8518\n",
            "Epoch 6/25\n",
            "313/313 [==============================] - 46s 145ms/step - loss: 0.0967 - accuracy: 0.9662 - val_loss: 0.5291 - val_accuracy: 0.8522\n",
            "Epoch 7/25\n",
            "313/313 [==============================] - 44s 140ms/step - loss: 0.0779 - accuracy: 0.9739 - val_loss: 0.5542 - val_accuracy: 0.8476\n",
            "Epoch 8/25\n",
            "313/313 [==============================] - 46s 147ms/step - loss: 0.0601 - accuracy: 0.9796 - val_loss: 0.6568 - val_accuracy: 0.8430\n",
            "Epoch 9/25\n",
            "313/313 [==============================] - 44s 140ms/step - loss: 0.0468 - accuracy: 0.9846 - val_loss: 0.8683 - val_accuracy: 0.8442\n",
            "Epoch 10/25\n",
            "313/313 [==============================] - 45s 143ms/step - loss: 0.0370 - accuracy: 0.9887 - val_loss: 0.7226 - val_accuracy: 0.8434\n",
            "Epoch 11/25\n",
            "313/313 [==============================] - 43s 139ms/step - loss: 0.0303 - accuracy: 0.9905 - val_loss: 0.8746 - val_accuracy: 0.8426\n",
            "Epoch 12/25\n",
            "313/313 [==============================] - 44s 142ms/step - loss: 0.0300 - accuracy: 0.9903 - val_loss: 0.9158 - val_accuracy: 0.8418\n",
            "157/157 [==============================] - 2s 11ms/step - loss: 0.3189 - accuracy: 0.8562\n",
            "Test accuracy: 0.8561999797821045\n"
          ]
        }
      ]
    },
    {
      "cell_type": "markdown",
      "source": [
        "##### Bi-Directional LSTM RNN"
      ],
      "metadata": {
        "id": "jNTKgRxmpfRl"
      }
    },
    {
      "cell_type": "markdown",
      "source": [
        "Using preprocessed text"
      ],
      "metadata": {
        "id": "S64bp2k3ppCW"
      }
    },
    {
      "cell_type": "code",
      "source": [
        "from tensorflow.keras.layers import LSTM, Bidirectional"
      ],
      "metadata": {
        "id": "AZu5ZGlfpnoJ"
      },
      "execution_count": null,
      "outputs": []
    },
    {
      "cell_type": "code",
      "source": [
        "# Build the model\n",
        "bi_lstm = Sequential()\n",
        "bi_lstm.add(Embedding(max_words, 128, input_length=max_len))\n",
        "bi_lstm.add(Bidirectional(LSTM(64)))\n",
        "bi_lstm.add(Dense(2, activation='softmax'))\n",
        "\n",
        "# Compile the model\n",
        "bi_lstm.compile(optimizer='adam', loss='categorical_crossentropy', metrics=['accuracy'])\n",
        "\n",
        "# Fit the model\n",
        "history = bi_lstm.fit(X_train, y_train, validation_data=(X_valid, y_valid), epochs=25, batch_size=128,\n",
        "                    callbacks=[early_stop])\n",
        "\n",
        "# Evaluate the model\n",
        "loss, accuracy = bi_lstm.evaluate(X_test, y_test)\n",
        "\n",
        "print(\"Test accuracy:\", accuracy)"
      ],
      "metadata": {
        "colab": {
          "base_uri": "https://localhost:8080/"
        },
        "id": "kDTS8AvNqBsX",
        "outputId": "6e15c83d-283a-46d5-913b-4800ef29905f"
      },
      "execution_count": null,
      "outputs": [
        {
          "output_type": "stream",
          "name": "stdout",
          "text": [
            "Epoch 1/25\n",
            "313/313 [==============================] - 92s 281ms/step - loss: 0.3508 - accuracy: 0.8408 - val_loss: 0.2842 - val_accuracy: 0.8848\n",
            "Epoch 2/25\n",
            "313/313 [==============================] - 87s 277ms/step - loss: 0.2189 - accuracy: 0.9141 - val_loss: 0.3144 - val_accuracy: 0.8786\n",
            "Epoch 3/25\n",
            "313/313 [==============================] - 88s 282ms/step - loss: 0.1610 - accuracy: 0.9387 - val_loss: 0.3607 - val_accuracy: 0.8798\n",
            "Epoch 4/25\n",
            "313/313 [==============================] - 86s 274ms/step - loss: 0.1094 - accuracy: 0.9596 - val_loss: 0.3881 - val_accuracy: 0.8626\n",
            "Epoch 5/25\n",
            "313/313 [==============================] - 85s 271ms/step - loss: 0.0750 - accuracy: 0.9740 - val_loss: 0.5139 - val_accuracy: 0.8684\n",
            "Epoch 6/25\n",
            "313/313 [==============================] - 86s 276ms/step - loss: 0.0508 - accuracy: 0.9835 - val_loss: 0.5908 - val_accuracy: 0.8604\n",
            "Epoch 7/25\n",
            "313/313 [==============================] - 87s 279ms/step - loss: 0.0371 - accuracy: 0.9876 - val_loss: 0.6815 - val_accuracy: 0.8606\n",
            "Epoch 8/25\n",
            "313/313 [==============================] - 85s 271ms/step - loss: 0.0294 - accuracy: 0.9905 - val_loss: 0.6299 - val_accuracy: 0.8504\n",
            "Epoch 9/25\n",
            "313/313 [==============================] - 88s 281ms/step - loss: 0.0245 - accuracy: 0.9926 - val_loss: 0.8029 - val_accuracy: 0.8588\n",
            "Epoch 10/25\n",
            "313/313 [==============================] - 86s 274ms/step - loss: 0.0168 - accuracy: 0.9950 - val_loss: 0.8338 - val_accuracy: 0.8592\n",
            "Epoch 11/25\n",
            "313/313 [==============================] - 85s 272ms/step - loss: 0.0154 - accuracy: 0.9952 - val_loss: 0.8435 - val_accuracy: 0.8552\n",
            "157/157 [==============================] - 3s 20ms/step - loss: 0.2836 - accuracy: 0.8816\n",
            "Test accuracy: 0.881600022315979\n"
          ]
        }
      ]
    },
    {
      "cell_type": "markdown",
      "source": [
        "Using raw text"
      ],
      "metadata": {
        "id": "JS81UTAMq7PP"
      }
    },
    {
      "cell_type": "code",
      "source": [
        "# Build the model\n",
        "bi_lstm = Sequential()\n",
        "bi_lstm.add(Embedding(max_words, 128, input_length=max_len))\n",
        "bi_lstm.add(GRU(64))\n",
        "bi_lstm.add(Dropout(0.5))\n",
        "bi_lstm.add(Dense(2, activation='softmax'))\n",
        "\n",
        "# Compile the model\n",
        "bi_lstm.compile(optimizer='adam', loss='categorical_crossentropy', metrics=['accuracy'])\n",
        "\n",
        "# Fit the model\n",
        "history = bi_lstm.fit(X_train1, y_train1, validation_data=(X_valid1, y_valid1), epochs=25, batch_size=128,\n",
        "                    callbacks=[early_stop])\n",
        "\n",
        "# Evaluate the model\n",
        "loss, accuracy = bi_lstm.evaluate(X_test1, y_test1)\n",
        "\n",
        "print(\"Test accuracy:\", accuracy)\n"
      ],
      "metadata": {
        "colab": {
          "base_uri": "https://localhost:8080/"
        },
        "id": "ygnoL4Bpq9VY",
        "outputId": "e69fa4f4-a9b3-4e57-b9a0-69ae7fe6f56c"
      },
      "execution_count": 33,
      "outputs": [
        {
          "output_type": "stream",
          "name": "stdout",
          "text": [
            "Epoch 1/25\n",
            "313/313 [==============================] - 46s 140ms/step - loss: 0.4163 - accuracy: 0.7997 - val_loss: 0.3160 - val_accuracy: 0.8664\n",
            "Epoch 2/25\n",
            "313/313 [==============================] - 53s 169ms/step - loss: 0.2646 - accuracy: 0.8938 - val_loss: 0.3127 - val_accuracy: 0.8684\n",
            "Epoch 3/25\n",
            "313/313 [==============================] - 77s 247ms/step - loss: 0.2120 - accuracy: 0.9168 - val_loss: 0.3692 - val_accuracy: 0.8582\n",
            "Epoch 4/25\n",
            "313/313 [==============================] - 55s 175ms/step - loss: 0.1622 - accuracy: 0.9392 - val_loss: 0.3925 - val_accuracy: 0.8620\n",
            "Epoch 5/25\n",
            "313/313 [==============================] - 64s 203ms/step - loss: 0.1195 - accuracy: 0.9567 - val_loss: 0.4201 - val_accuracy: 0.8556\n",
            "Epoch 6/25\n",
            "313/313 [==============================] - 44s 141ms/step - loss: 0.0924 - accuracy: 0.9679 - val_loss: 0.4852 - val_accuracy: 0.8552\n",
            "Epoch 7/25\n",
            "313/313 [==============================] - 46s 146ms/step - loss: 0.0697 - accuracy: 0.9771 - val_loss: 0.5656 - val_accuracy: 0.8506\n",
            "Epoch 8/25\n",
            "313/313 [==============================] - 51s 164ms/step - loss: 0.0526 - accuracy: 0.9826 - val_loss: 0.7046 - val_accuracy: 0.8414\n",
            "Epoch 9/25\n",
            "313/313 [==============================] - 46s 147ms/step - loss: 0.0468 - accuracy: 0.9847 - val_loss: 0.6836 - val_accuracy: 0.8422\n",
            "Epoch 10/25\n",
            "313/313 [==============================] - 45s 143ms/step - loss: 0.0380 - accuracy: 0.9879 - val_loss: 0.8462 - val_accuracy: 0.8474\n",
            "Epoch 11/25\n",
            "313/313 [==============================] - 45s 144ms/step - loss: 0.0290 - accuracy: 0.9910 - val_loss: 0.8308 - val_accuracy: 0.8406\n",
            "Epoch 12/25\n",
            "313/313 [==============================] - 47s 151ms/step - loss: 0.0275 - accuracy: 0.9911 - val_loss: 0.9900 - val_accuracy: 0.8366\n",
            "157/157 [==============================] - 2s 11ms/step - loss: 0.3106 - accuracy: 0.8688\n",
            "Test accuracy: 0.8687999844551086\n"
          ]
        }
      ]
    },
    {
      "cell_type": "markdown",
      "source": [
        "#### Transformer Models"
      ],
      "metadata": {
        "id": "DGQZWkg0rJ14"
      }
    },
    {
      "cell_type": "markdown",
      "source": [
        "##### Pre-Trained DistilBERT Model"
      ],
      "metadata": {
        "id": "-Kk6OvUNvNH1"
      }
    },
    {
      "cell_type": "markdown",
      "source": [
        "Using preprocessed text"
      ],
      "metadata": {
        "id": "lsO-4_XOvUFT"
      }
    },
    {
      "cell_type": "code",
      "source": [
        "import os\n",
        "from transformers import TFAutoModelForSequenceClassification, AutoTokenizer\n",
        "\n",
        "\n",
        "# Detect TPU and set up distribution strategy\n",
        "tpu = tf.distribute.cluster_resolver.TPUClusterResolver.connect()\n",
        "tpu_strategy = tf.distribute.TPUStrategy(tpu)\n",
        "\n",
        "model_name = 'distilbert-base-uncased'\n",
        "tokenizer = AutoTokenizer.from_pretrained(model_name)"
      ],
      "metadata": {
        "id": "cMbJM6S5s-3g"
      },
      "execution_count": 8,
      "outputs": []
    },
    {
      "cell_type": "code",
      "source": [
        "#prepare datasets\n",
        "max_len = 512\n",
        "\n",
        "X_train = tokenizer(text=train['preprocessed_text'].tolist(), add_special_tokens=True, max_length=max_len, truncation=True, padding=True, return_tensors='tf')\n",
        "y_train = train['label'].values\n",
        "X_test = tokenizer(text=test['preprocessed_text'].tolist(), add_special_tokens=True, max_length=max_len, truncation=True, padding=True, return_tensors='tf')\n",
        "y_test = test['label'].values\n",
        "X_valid = tokenizer(text=valid['preprocessed_text'].tolist(), add_special_tokens=True, max_length=max_len, truncation=True, padding=True, return_tensors='tf')\n",
        "y_valid = valid['label'].values\n",
        "\n",
        "X_train_np = X_train['input_ids'].numpy()\n",
        "X_valid_np = X_valid['input_ids'].numpy()\n",
        "\n",
        "# Create TensorFlow datasets\n",
        "train_dataset = tf.data.Dataset.from_tensor_slices((X_train_np, y_train)).batch(32)\n",
        "test_dataset = tf.data.Dataset.from_tensor_slices((X_test['input_ids'], X_test['attention_mask'])).batch(32)\n",
        "val_dataset = tf.data.Dataset.from_tensor_slices((X_valid_np, y_valid)).batch(32)\n"
      ],
      "metadata": {
        "id": "U9FF3owpfxAt"
      },
      "execution_count": 16,
      "outputs": []
    },
    {
      "cell_type": "code",
      "source": [
        "with tpu_strategy.scope():\n",
        "    model = TFAutoModelForSequenceClassification.from_pretrained(model_name, num_labels=2)\n",
        "    optimizer = tf.keras.optimizers.Adam(learning_rate=5e-5)\n",
        "    loss = tf.keras.losses.SparseCategoricalCrossentropy(from_logits=True)\n",
        "    model.compile(optimizer=optimizer, loss=loss, metrics=['accuracy'])\n",
        "\n",
        "# Set up early stopping\n",
        "early_stop = tf.keras.callbacks.EarlyStopping(monitor='val_loss', patience=3, restore_best_weights=True)\n",
        "\n",
        "batch_size = 32\n",
        "epochs = 10\n",
        "history = model.fit(train_dataset, epochs=epochs, validation_data=val_dataset, callbacks=[early_stop])\n",
        "\n",
        "y_pred = model.predict(test_dataset)\n",
        "y_pred_labels = np.argmax(y_pred.logits, axis=1)\n",
        "accuracy = np.sum(y_pred_labels == y_test) / len(y_test)\n",
        "print(f\"Test accuracy: {accuracy:.2f}\")"
      ],
      "metadata": {
        "colab": {
          "base_uri": "https://localhost:8080/",
          "height": 399,
          "referenced_widgets": [
            "9fe6b1cdd00c4f3ea656abb509b4dc04",
            "4f26dedba80c456793834e9b20c254d4",
            "098dad21d8264398b66ee0b95a19e4ed",
            "5fcb9974d3034c27b9f60584f3b32e31",
            "7b34f98cf654446f8842625fa3c3cc5c",
            "9571d0e32d9c4a2bb6c8ef9f83ac1239",
            "d431c341da2a480a97a06eac15d1bd7c",
            "9828bccf6dda44359f3fa1b22c4d73ac",
            "7013950a33624b38b0750052cc18e175",
            "8b62f609b6a94298aac254814d1afdb0",
            "75c51f2663eb4019897ee851c53c5bc9"
          ]
        },
        "id": "CwyCucm0CgSe",
        "outputId": "192c1608-21bc-460e-d1aa-dbace50faccf"
      },
      "execution_count": 17,
      "outputs": [
        {
          "data": {
            "application/vnd.jupyter.widget-view+json": {
              "model_id": "9fe6b1cdd00c4f3ea656abb509b4dc04",
              "version_major": 2,
              "version_minor": 0
            },
            "text/plain": [
              "Downloading model.safetensors:   0%|          | 0.00/268M [00:00<?, ?B/s]"
            ]
          },
          "metadata": {},
          "output_type": "display_data"
        },
        {
          "metadata": {
            "tags": null
          },
          "name": "stderr",
          "output_type": "stream",
          "text": [
            "Some weights of the PyTorch model were not used when initializing the TF 2.0 model TFDistilBertForSequenceClassification: ['vocab_projector.bias', 'vocab_layer_norm.weight', 'vocab_transform.weight', 'vocab_transform.bias', 'vocab_layer_norm.bias']\n",
            "- This IS expected if you are initializing TFDistilBertForSequenceClassification from a PyTorch model trained on another task or with another architecture (e.g. initializing a TFBertForSequenceClassification model from a BertForPreTraining model).\n",
            "- This IS NOT expected if you are initializing TFDistilBertForSequenceClassification from a PyTorch model that you expect to be exactly identical (e.g. initializing a TFBertForSequenceClassification model from a BertForSequenceClassification model).\n",
            "Some weights or buffers of the TF 2.0 model TFDistilBertForSequenceClassification were not initialized from the PyTorch model and are newly initialized: ['pre_classifier.weight', 'pre_classifier.bias', 'classifier.weight', 'classifier.bias']\n",
            "You should probably TRAIN this model on a down-stream task to be able to use it for predictions and inference.\n"
          ]
        },
        {
          "output_type": "stream",
          "name": "stdout",
          "text": [
            "Epoch 1/10\n",
            "1250/1250 [==============================] - 210s 122ms/step - loss: 0.6949 - accuracy: 0.5016 - val_loss: 0.6932 - val_accuracy: 0.5016\n",
            "Epoch 2/10\n",
            "1250/1250 [==============================] - 119s 95ms/step - loss: 0.5808 - accuracy: 0.6417 - val_loss: 0.3965 - val_accuracy: 0.8130\n",
            "Epoch 3/10\n",
            "1250/1250 [==============================] - 117s 94ms/step - loss: 0.3125 - accuracy: 0.8721 - val_loss: 0.2939 - val_accuracy: 0.8812\n",
            "Epoch 4/10\n",
            "1250/1250 [==============================] - 116s 93ms/step - loss: 0.2218 - accuracy: 0.9150 - val_loss: 0.3084 - val_accuracy: 0.8822\n",
            "Epoch 5/10\n",
            "1250/1250 [==============================] - 117s 93ms/step - loss: 0.1617 - accuracy: 0.9420 - val_loss: 0.4406 - val_accuracy: 0.8570\n",
            "Epoch 6/10\n",
            "1250/1250 [==============================] - 125s 100ms/step - loss: 0.1159 - accuracy: 0.9612 - val_loss: 0.4557 - val_accuracy: 0.8768\n",
            "157/157 [==============================] - 14s 69ms/step\n",
            "Test accuracy: 0.88\n"
          ]
        }
      ]
    },
    {
      "cell_type": "markdown",
      "source": [
        "Using raw text"
      ],
      "metadata": {
        "id": "A1T2xOfTvWee"
      }
    },
    {
      "cell_type": "code",
      "source": [
        "#prepare datasets\n",
        "max_len = 512\n",
        "\n",
        "X_train1 = tokenizer(text=train['text'].tolist(), add_special_tokens=True, max_length=max_len, truncation=True, padding=True, return_tensors='tf')\n",
        "y_train1 = train['label'].values\n",
        "X_test1 = tokenizer(text=test['text'].tolist(), add_special_tokens=True, max_length=max_len, truncation=True, padding=True, return_tensors='tf')\n",
        "y_test1 = test['label'].values\n",
        "X_valid1 = tokenizer(text=valid['text'].tolist(), add_special_tokens=True, max_length=max_len, truncation=True, padding=True, return_tensors='tf')\n",
        "y_valid1 = valid['label'].values\n",
        "\n",
        "X_train_np1 = X_train1['input_ids'].numpy()\n",
        "X_valid_np1 = X_valid1['input_ids'].numpy()\n",
        "\n",
        "# Create TensorFlow datasets\n",
        "train_dataset1 = tf.data.Dataset.from_tensor_slices((X_train_np1, y_train1)).batch(32)\n",
        "test_dataset1 = tf.data.Dataset.from_tensor_slices((X_test1['input_ids'], X_test1['attention_mask'])).batch(32)\n",
        "val_dataset1 = tf.data.Dataset.from_tensor_slices((X_valid_np1, y_valid1)).batch(32)\n"
      ],
      "metadata": {
        "id": "cwQlF3aVD4Az"
      },
      "execution_count": 13,
      "outputs": []
    },
    {
      "cell_type": "code",
      "source": [
        "with tpu_strategy.scope():\n",
        "    model = TFAutoModelForSequenceClassification.from_pretrained(model_name, num_labels=2)\n",
        "    optimizer = tf.keras.optimizers.Adam(learning_rate=5e-5)\n",
        "    loss = tf.keras.losses.SparseCategoricalCrossentropy(from_logits=True)\n",
        "    model.compile(optimizer=optimizer, loss=loss, metrics=['accuracy'])\n",
        "\n",
        "# Set up early stopping\n",
        "early_stop = tf.keras.callbacks.EarlyStopping(monitor='val_loss', patience=3, restore_best_weights=True)\n",
        "\n",
        "batch_size = 32\n",
        "epochs = 10\n",
        "history = model.fit(train_dataset1, epochs=epochs, validation_data=val_dataset1, callbacks=[early_stop])\n",
        "\n",
        "y_pred = model.predict(test_dataset1)\n",
        "y_pred_labels = np.argmax(y_pred.logits, axis=1)\n",
        "accuracy = np.sum(y_pred_labels == y_test1) / len(y_test1)\n",
        "print(f\"Test accuracy: {accuracy:.2f}\")"
      ],
      "metadata": {
        "colab": {
          "base_uri": "https://localhost:8080/"
        },
        "id": "x5ydztkFD1N8",
        "outputId": "67e097bd-a644-40ac-9786-89ea1fdf63e5"
      },
      "execution_count": 14,
      "outputs": [
        {
          "metadata": {
            "tags": null
          },
          "name": "stderr",
          "output_type": "stream",
          "text": [
            "Some weights of the PyTorch model were not used when initializing the TF 2.0 model TFDistilBertForSequenceClassification: ['vocab_transform.bias', 'vocab_layer_norm.bias', 'vocab_layer_norm.weight', 'vocab_projector.bias', 'vocab_transform.weight']\n",
            "- This IS expected if you are initializing TFDistilBertForSequenceClassification from a PyTorch model trained on another task or with another architecture (e.g. initializing a TFBertForSequenceClassification model from a BertForPreTraining model).\n",
            "- This IS NOT expected if you are initializing TFDistilBertForSequenceClassification from a PyTorch model that you expect to be exactly identical (e.g. initializing a TFBertForSequenceClassification model from a BertForSequenceClassification model).\n",
            "Some weights or buffers of the TF 2.0 model TFDistilBertForSequenceClassification were not initialized from the PyTorch model and are newly initialized: ['pre_classifier.weight', 'pre_classifier.bias', 'classifier.weight', 'classifier.bias']\n",
            "You should probably TRAIN this model on a down-stream task to be able to use it for predictions and inference.\n"
          ]
        },
        {
          "output_type": "stream",
          "name": "stdout",
          "text": [
            "Epoch 1/10\n",
            "1250/1250 [==============================] - 150s 98ms/step - loss: 0.2467 - accuracy: 0.8975 - val_loss: 0.1930 - val_accuracy: 0.9228\n",
            "Epoch 2/10\n",
            "1250/1250 [==============================] - 118s 94ms/step - loss: 0.1340 - accuracy: 0.9513 - val_loss: 0.2530 - val_accuracy: 0.9068\n",
            "Epoch 3/10\n",
            "1250/1250 [==============================] - 117s 94ms/step - loss: 0.0807 - accuracy: 0.9711 - val_loss: 0.2282 - val_accuracy: 0.9226\n",
            "Epoch 4/10\n",
            "1250/1250 [==============================] - 124s 99ms/step - loss: 0.0547 - accuracy: 0.9819 - val_loss: 0.4152 - val_accuracy: 0.8978\n",
            "157/157 [==============================] - 9s 33ms/step\n",
            "Test accuracy: 0.93\n"
          ]
        }
      ]
    },
    {
      "cell_type": "markdown",
      "source": [
        "##### Pre-Trained Roberta Model"
      ],
      "metadata": {
        "id": "J_sWNYl5vYqz"
      }
    },
    {
      "cell_type": "markdown",
      "source": [
        "For this we'll just use raw text since Neural Networks tend to perform best with the raw text."
      ],
      "metadata": {
        "id": "muOr-Bz1vkOt"
      }
    },
    {
      "cell_type": "code",
      "source": [
        "model_name = 'roberta-base'\n",
        "tokenizer = AutoTokenizer.from_pretrained(model_name)"
      ],
      "metadata": {
        "id": "XSE-1CmrvfMS"
      },
      "execution_count": 9,
      "outputs": []
    },
    {
      "cell_type": "code",
      "source": [
        "#prepare datasets\n",
        "max_len = 512\n",
        "\n",
        "X_train1 = tokenizer(text=train['text'].tolist(), add_special_tokens=True, max_length=max_len, truncation=True, padding=True, return_tensors='tf')\n",
        "y_train1 = train['label'].values\n",
        "X_test1 = tokenizer(text=test['text'].tolist(), add_special_tokens=True, max_length=max_len, truncation=True, padding=True, return_tensors='tf')\n",
        "y_test1 = test['label'].values\n",
        "X_valid1 = tokenizer(text=valid['text'].tolist(), add_special_tokens=True, max_length=max_len, truncation=True, padding=True, return_tensors='tf')\n",
        "y_valid1 = valid['label'].values\n",
        "\n",
        "X_train_np1 = X_train1['input_ids'].numpy()\n",
        "X_valid_np1 = X_valid1['input_ids'].numpy()\n",
        "\n",
        "# Create TensorFlow datasets\n",
        "train_dataset1 = tf.data.Dataset.from_tensor_slices((X_train_np1, y_train1)).batch(16)\n",
        "test_dataset1 = tf.data.Dataset.from_tensor_slices((X_test1['input_ids'], X_test1['attention_mask'])).batch(16)\n",
        "val_dataset1 = tf.data.Dataset.from_tensor_slices((X_valid_np1, y_valid1)).batch(16)"
      ],
      "metadata": {
        "id": "wDzil3DJo8Yj"
      },
      "execution_count": 16,
      "outputs": []
    },
    {
      "cell_type": "code",
      "source": [
        "with tpu_strategy.scope():\n",
        "    model = TFAutoModelForSequenceClassification.from_pretrained(model_name, num_labels=2)\n",
        "    optimizer = tf.keras.optimizers.Adam(learning_rate=2e-6)\n",
        "    loss = tf.keras.losses.SparseCategoricalCrossentropy(from_logits=True)\n",
        "    model.compile(optimizer=optimizer, loss=loss, metrics=['accuracy'])\n",
        "\n",
        "# Set up early stopping\n",
        "early_stop = tf.keras.callbacks.EarlyStopping(monitor='val_loss', patience=3, restore_best_weights=True)\n",
        "\n",
        "batch_size = 16\n",
        "epochs = 10\n",
        "history = model.fit(train_dataset1, epochs=epochs, validation_data=val_dataset1, callbacks=[early_stop])\n",
        "\n",
        "y_pred = model.predict(test_dataset1)\n",
        "y_pred_labels = np.argmax(y_pred.logits, axis=1)\n",
        "accuracy = np.sum(y_pred_labels == y_test1) / len(y_test1)\n",
        "print(f\"Test accuracy: {accuracy:.2f}\")"
      ],
      "metadata": {
        "colab": {
          "base_uri": "https://localhost:8080/"
        },
        "id": "Dc6tOVRGpYJ9",
        "outputId": "c926bce5-3ef7-4727-a7a4-0dd31d6fea56"
      },
      "execution_count": 17,
      "outputs": [
        {
          "output_type": "stream",
          "name": "stderr",
          "text": [
            "Some weights of the PyTorch model were not used when initializing the TF 2.0 model TFRobertaForSequenceClassification: ['roberta.embeddings.position_ids']\n",
            "- This IS expected if you are initializing TFRobertaForSequenceClassification from a PyTorch model trained on another task or with another architecture (e.g. initializing a TFBertForSequenceClassification model from a BertForPreTraining model).\n",
            "- This IS NOT expected if you are initializing TFRobertaForSequenceClassification from a PyTorch model that you expect to be exactly identical (e.g. initializing a TFBertForSequenceClassification model from a BertForSequenceClassification model).\n",
            "Some weights or buffers of the TF 2.0 model TFRobertaForSequenceClassification were not initialized from the PyTorch model and are newly initialized: ['classifier.dense.weight', 'classifier.dense.bias', 'classifier.out_proj.weight', 'classifier.out_proj.bias']\n",
            "You should probably TRAIN this model on a down-stream task to be able to use it for predictions and inference.\n"
          ]
        },
        {
          "output_type": "stream",
          "name": "stdout",
          "text": [
            "Epoch 1/10\n",
            "2500/2500 [==============================] - 426s 128ms/step - loss: 0.2845 - accuracy: 0.8570 - val_loss: 0.1561 - val_accuracy: 0.9418\n",
            "Epoch 2/10\n",
            "2500/2500 [==============================] - 309s 124ms/step - loss: 0.1405 - accuracy: 0.9488 - val_loss: 0.1415 - val_accuracy: 0.9522\n",
            "Epoch 3/10\n",
            "2500/2500 [==============================] - 310s 124ms/step - loss: 0.1174 - accuracy: 0.9586 - val_loss: 0.1341 - val_accuracy: 0.9542\n",
            "Epoch 4/10\n",
            "2500/2500 [==============================] - 310s 124ms/step - loss: 0.0961 - accuracy: 0.9670 - val_loss: 0.1360 - val_accuracy: 0.9542\n",
            "Epoch 5/10\n",
            "2500/2500 [==============================] - 308s 123ms/step - loss: 0.0813 - accuracy: 0.9728 - val_loss: 0.1363 - val_accuracy: 0.9570\n",
            "Epoch 6/10\n",
            "2500/2500 [==============================] - 321s 129ms/step - loss: 0.0654 - accuracy: 0.9801 - val_loss: 0.1476 - val_accuracy: 0.9538\n",
            "313/313 [==============================] - 17s 36ms/step\n",
            "Test accuracy: 0.95\n"
          ]
        }
      ]
    },
    {
      "cell_type": "markdown",
      "source": [
        "#### Comparing the Accuracy of all the models for our Sentiment Analysis:\n",
        "- Accuracy of SVM with BOW: 88.04%\n",
        "- Accuracy of SVM with Tf-IDF: 90.04%\n",
        "- Accuracy of SVM with Custom Word2Vec: 52.62%\n",
        "- Accuracy of SVM with Google Word2Vec: 85.74%\n",
        "- Accuracy of Vanilla RNN Model: 85.51%\n",
        "- Accuracy of LSTM Model: 87.90%\n",
        "- Accuracy of GRU Model: 88.00%\n",
        "- Accuracy of Bi-Directional LSTM Model: 88.16%\n",
        "- Accuracy of DistilBERT Model: 93%\n",
        "- Accuracy of Roberta Model: 95%"
      ],
      "metadata": {
        "id": "B83OeQcGNpne"
      }
    },
    {
      "cell_type": "code",
      "source": [],
      "metadata": {
        "id": "0pb7eznJpdCn"
      },
      "execution_count": null,
      "outputs": []
    }
  ]
}